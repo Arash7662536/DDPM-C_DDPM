{
 "cells": [
  {
   "cell_type": "markdown",
   "metadata": {
    "id": "KcY2HhqEY34W"
   },
   "source": [
    "#  Diffusion Models\n"
   ]
  },
  {
   "cell_type": "markdown",
   "metadata": {
    "id": "3Xpmx9b5Y34c"
   },
   "source": [
    "In this notebook we implement a Denoising Diffusion Probabilistic Model (DDPM).\n",
    "For references please refer to the original [DDPM paper](https://arxiv.org/pdf/2006.11239.pdf).\n",
    ".\n",
    "\n"
   ]
  },
  {
   "cell_type": "markdown",
   "metadata": {
    "id": "YQc4CqUe4z26"
   },
   "source": [
    "# Denoising Diffusion Probabilistic Models (DDPMs) "
   ]
  },
  {
   "cell_type": "markdown",
   "metadata": {
    "id": "0JmI9muQY34e"
   },
   "source": [
    "## Introduction"
   ]
  },
  {
   "cell_type": "markdown",
   "metadata": {
    "id": "mL4aff-MY34e"
   },
   "source": [
    "Denoising Diffusion Probabilistic Models (DDPM) are deep generative models that are recently getting a lot of attention due to their impressive performances. Brand new models like OpenAI’s DALL-E 2 and Google’s Imagen generators are based on DDPMs.\n",
    "\n",
    "The idea is quite simple: given a dataset of images, we add a little bit of noise step-by-step. With each step, the image becomes less and less clear, until all that is left is noise. This is called the “forward process”. Then, we learn a machine learning model that can undo each of such steps, and we call it the “backward process”. If we can successfully learn a backward process, we have a model that can generate images from pure random noise.\n",
    "\n",
    "A step in the forward process consists in making the input image noisier (x at step t) by sampling from a multivariate gaussian distribution which mean is a scaled-down version of the previous image (x at step t-1) and which covariance matrix is diagonal and fixed. In other words, we perturb each pixel in the image independently by adding some normally distributed value:"
   ]
  },
  {
   "cell_type": "markdown",
   "metadata": {
    "id": "Q_xIKMXsY34f"
   },
   "source": [
    "![image](https://learnopencv.com/wp-content/uploads/2023/01/diffusion-models-forwardbackward_process_ddpm.png \"The main idea of DDPM: Map images x0 to more and more noisy images with probability distribution q. Then, learn the inverse function p parametrized by parameters theta. The image is taken from “Denoising DIffusion Probabilistic Models” by Ho et. al.\")"
   ]
  },
  {
   "cell_type": "markdown",
   "metadata": {
    "id": "Zumo714kY34f"
   },
   "source": [
    "For the backward process, we know our model should also work as a gaussian distribution, so we would just need the model to predict the distribution mean and standard deviation given the noisy image and time step. In practice, in this first paper on DDPMs the covariance matrix is kept fixed, so we only really want to predict the mean of the gaussian (given the noisy image and the time step we are at currently):"
   ]
  },
  {
   "cell_type": "markdown",
   "metadata": {
    "id": "aCiyYEsvY34g"
   },
   "source": [
    "![image](https://learnopencv.com/wp-content/uploads/2023/02/denoising-diffusion-probabilistic-models-overall_forward_diffusion_process-1.png)"
   ]
  },
  {
   "cell_type": "markdown",
   "metadata": {
    "id": "WL8o6VExY34g"
   },
   "source": [
    "We will delve deeper into the details of the forward (diffusion) and backward (denoising) processes in the relevant cells.\n",
    "\n",
    "In this homework, we aim to implement a DDPM from scratch to generate random captcha images from noise. Our goal is to make our DDPM conditional on the captcha text to generate images for specific input texts."
   ]
  },
  {
   "cell_type": "markdown",
   "metadata": {
    "id": "f98X_6-PY34h"
   },
   "source": [
    "## Packages\n",
    "\n",
    "As usual, imports are trivially our first step.\n",
    "\n"
   ]
  },
  {
   "cell_type": "code",
   "execution_count": null,
   "metadata": {
    "id": "o2tvBZTNY34h"
   },
   "outputs": [],
   "source": [
    "import os\n",
    "import random\n",
    "import string\n",
    "import math\n",
    "import torch\n",
    "import numpy as np\n",
    "import torch.nn as nn\n",
    "import torch.nn.functional as F\n",
    "from torch import optim\n",
    "from torch.utils.data import DataLoader\n",
    "from PIL import Image\n",
    "from torchvision import transforms\n",
    "from torchvision.datasets import VisionDataset\n",
    "# from transformers import AutoTokenizer, AutoModel\n",
    "\n",
    "from tqdm.notebook import tqdm\n",
    "import matplotlib.pyplot as plt"
   ]
  },
  {
   "cell_type": "code",
   "execution_count": null,
   "metadata": {
    "id": "X114iKfa_bzR"
   },
   "outputs": [],
   "source": [
    "DEVICE = 'cuda:0' if torch.cuda.is_available() else 'cpu'"
   ]
  },
  {
   "cell_type": "markdown",
   "metadata": {
    "id": "AKdn_KMo92ml"
   },
   "source": [
    "## Dataset \n",
    "We'll focus on the small captcha dataset comprising around 1070 images, each labeled with a 5-character text (lowercase letters and digits). The dataset represents a tiny fraction of the total possible captchas, estimated at 5^36. Our aim is to generate new captchas not present in the provided dataset. Each sample is a 50x200 RGB image paired with a text label. To begin, download our data and create a custom vision dataset by running the following two cells:"
   ]
  },
  {
   "cell_type": "code",
   "execution_count": null,
   "metadata": {
    "id": "mDwC_WgeVpJm"
   },
   "outputs": [],
   "source": [
    "%%capture\n",
    "!pip install gdown\n",
    "!gdown 1P_EQv94d03y59kFPQ2gZLOLMAJs6cLVI\n",
    "!unzip captcha_v2.zip"
   ]
  },
  {
   "cell_type": "code",
   "execution_count": null,
   "metadata": {
    "id": "T8F8ANV_Y34j"
   },
   "outputs": [],
   "source": [
    "class Captcha(VisionDataset):\n",
    "    def __init__(self, root, transform=None, target_transform=None):\n",
    "        # Initializing Captcha Dataset class\n",
    "        super(Captcha, self).__init__(root, transform=transform, target_transform=target_transform)\n",
    "        # Listing all files in the provided root directory\n",
    "        self.files = sorted(os.listdir(root))\n",
    "\n",
    "        # Initializing lists to store images and their respective labels\n",
    "        self.images = []\n",
    "        self.labels = []\n",
    "\n",
    "        # Iterating through each file in the root directory\n",
    "        for img in self.files:\n",
    "            # Checking if the file is an image file\n",
    "            if self.is_image_file(img):\n",
    "                # Extracting label from filename (before the extension)\n",
    "                name = os.path.basename(img)\n",
    "                label = name.split('.')[0]\n",
    "                # Storing image path and label\n",
    "                self.images.append(os.path.join(self.root, img))\n",
    "                self.labels.append(label)\n",
    "\n",
    "    def __len__(self):\n",
    "        # Returning the total number of images\n",
    "        return len(self.labels)\n",
    "\n",
    "    def __getitem__(self, idx:int):\n",
    "        # Retrieving image and target label based on index\n",
    "        img, target = self.images[idx], self.labels[idx]\n",
    "\n",
    "        # Checking if the index is a slice (multiple items requested)\n",
    "        if isinstance(idx, slice):\n",
    "            tmp = []\n",
    "            # Iterating through each image in the slice\n",
    "            for item in img:\n",
    "                # Applying transformations if specified\n",
    "                if self.transform is not None:\n",
    "                    tmp.append(self.transform(self.read_image(item)))\n",
    "                else:\n",
    "                    tmp.append(self.read_image(item))\n",
    "            img = tmp\n",
    "        else:\n",
    "            # Applying transformations if specified\n",
    "            if self.transform is not None:\n",
    "                img = self.transform(self.read_image(img))\n",
    "            else:\n",
    "                img = self.read_image(img)\n",
    "\n",
    "        # Applying target transformations if specified\n",
    "        if self.target_transform is not None:\n",
    "            if isinstance(idx, slice):\n",
    "                tmp = []\n",
    "                # Iterating through each target label in the slice\n",
    "                for t in target:\n",
    "                    tmp.append(self.target_transform(t))\n",
    "                target = tmp\n",
    "            else:\n",
    "                target = self.target_transform(target)\n",
    "\n",
    "        # Returning image and target label\n",
    "        return img, target\n",
    "\n",
    "    # Method to read image from file path\n",
    "    def read_image(self, path):\n",
    "        img = Image.open(path)\n",
    "        # Converting image to RGB format\n",
    "        return img.convert('RGB')\n",
    "\n",
    "    # Method to check if a file is an image file\n",
    "    def is_image_file(self, filename):\n",
    "        # Checking if filename ends with any of the specified image extensions\n",
    "        return any(filename.endswith(extension) for extension in [\".jpg\", \".jpeg\", \".png\"])\n"
   ]
  },
  {
   "cell_type": "markdown",
   "metadata": {
    "id": "C73WnnLwY34k"
   },
   "source": [
    "The images we read are in PIL format via the Pillow library. Initially, we apply below transforms to the raw images:\n",
    "* rezie  to a final size of `64 by 256`\n",
    "* converting  into a tensor\n",
    "* and normalizing values to a `mean` and `standard deviation` of 0.5."
   ]
  },
  {
   "cell_type": "code",
   "execution_count": null,
   "metadata": {
    "id": "CSr6oTB3Y34k"
   },
   "outputs": [],
   "source": [
    "\n",
    "transform = transforms.Compose(\n",
    "    [\n",
    "        # Example:\n",
    "        # transforms.Pad((1, 1), padding_mode='edge')\n",
    "        # transforms.CenterCrop(config.image_size),\n",
    "        transforms.Resize((64, 256)),\n",
    "        # transforms.RandomHorizontalFlip(),\n",
    "        # transforms.Pad((28, 7), padding_mode='edge'),\n",
    "        transforms.ToTensor(),\n",
    "        transforms.Normalize([0.5], [0.5]),\n",
    "    ]\n",
    ")\n",
    "\n",
    "\n",
    "target_transform = None\n"
   ]
  },
  {
   "cell_type": "code",
   "execution_count": null,
   "metadata": {
    "id": "HDFYXIVkY34k"
   },
   "outputs": [],
   "source": [
    "# Defining the path where the dataset is stored\n",
    "DATA_PATH = './captcha_v2/'\n",
    "\n",
    "\n",
    "##########################################################\n",
    "\n",
    "dataset = Captcha(DATA_PATH, transform=transform)\n",
    "\n"
   ]
  },
  {
   "cell_type": "markdown",
   "metadata": {
    "id": "eBf6e1U3Y34k"
   },
   "source": [
    "In the next step, we utilize the `dataloader` for model training and `plot_samples` to visualize sequences of images, such as iteratively denoised images by DDPM."
   ]
  },
  {
   "cell_type": "code",
   "execution_count": null,
   "metadata": {
    "id": "N2QQ4uQQY34l"
   },
   "outputs": [],
   "source": [
    "\n",
    "\n",
    "# Define your desired batch size for training or evaluation\n",
    "BATCH_SIZE = 16\n",
    "\n",
    "# Create a Dataloader instance for loading data in batches\n",
    "dataloader = DataLoader(dataset, batch_size=BATCH_SIZE, shuffle=True)\n",
    "\n"
   ]
  },
  {
   "cell_type": "code",
   "execution_count": null,
   "metadata": {
    "id": "uhT_G9P5_PUG"
   },
   "outputs": [],
   "source": [
    "# Define function to plot images\n",
    "def plot_images(images):\n",
    "    plt.figure(figsize=(16, 3))\n",
    "\n",
    "    plt.imshow(torch.cat([i for i in images], dim=-1).permute(1, 2, 0).cpu() / 2 + 0.5)\n",
    "\n",
    "    plt.axis('off')\n",
    "\n",
    "    plt.show()\n"
   ]
  },
  {
   "cell_type": "code",
   "execution_count": null,
   "metadata": {
    "colab": {
     "base_uri": "https://localhost:8080/",
     "height": 68
    },
    "id": "SBbJeWrlY34l",
    "outputId": "0d878e4c-dbfd-4b6f-869b-48b5d09a4e13"
   },
   "outputs": [
    {
     "data": {
      "image/png": "[encoded data removed]",
      "text/plain": [
       "<Figure size 1600x300 with 1 Axes>"
      ]
     },
     "metadata": {},
     "output_type": "display_data"
    }
   ],
   "source": [
    "# gettng some random samples from our dataset\n",
    "# Define the number of samples to display\n",
    "num_samples = 6\n",
    "batch_x, batch_y = next(iter(dataloader))\n",
    "plot_images(batch_x[:num_samples])"
   ]
  },
  {
   "cell_type": "markdown",
   "metadata": {
    "id": "z2wwNJOp8b5o"
   },
   "source": [
    "## DDPM Architecture"
   ]
  },
  {
   "cell_type": "markdown",
   "metadata": {
    "id": "zZuYLAMZ9sZP"
   },
   "source": [
    "The overall procedure of training and sampling from DDPM is represented in the following pseudocodes from DDPM paper. For more details on the loss function and the sampling process, please refer to the course slides and the paper.\n",
    "![image.png](data:image/png;base64,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)"
   ]
  },
  {
   "cell_type": "markdown",
   "metadata": {
    "id": "AeWSGnGxY34s"
   },
   "source": [
    "According to the given pseudocode, In the reverse diffusion process, the task is to learn a finite-time (within T timesteps) reversal of the forward diffusion process. So we only need to train a model that learns to reverse the noise from an input image at a specific time step. In this notebook, we will use the fully convolutional network architecture proposed by the paper, a U-Net with image and time as the inputs and predicted noise as the output. They augment the regular UNet with several sub-modules and techniques such as ResNets, Attention modules and etc. We describe The UNet network and its architecture in the next section.\n",
    "\n",
    "The pseudocode also shows that the loss function is defined as an MSE on per time step noise and the predicted noise for the current time step. Therefore, we will also use the mentioned loss function to train the network. The pseudo-code provides the formula for generating both noisy and less noisy images, that will be used in the relevant section.\n"
   ]
  },
  {
   "cell_type": "markdown",
   "metadata": {
    "id": "Z-pdNO_MY34s"
   },
   "source": [
    "### U-Net"
   ]
  },
  {
   "cell_type": "markdown",
   "metadata": {
    "id": "J5E9MuH4Y34s"
   },
   "source": [
    "The U-Net architecture, a convolutional neural network framework, has emerged as a powerful tool for semantic segmentation tasks, U-Net is characterized by its unique U-shaped architecture, that allows U-Net to efficiently learn both global and local features, enabling it to achieve best performance in various segmentation challenges.\n",
    "![unet_ong](https://production-media.paperswithcode.com/methods/Screen_Shot_2020-07-07_at_9.08.00_PM_rpNArED.png)"
   ]
  },
  {
   "cell_type": "markdown",
   "metadata": {
    "id": "GIagHlxUY34t"
   },
   "source": [
    "It consists of a contracting path and an expansive path. The contracting path follows the typical architecture of a convolutional network. It consists of the repeated application of two 3x3 convolutions (unpadded convolutions), each followed by a rectified linear unit (ReLU) and a 2x2 max pooling operation with stride 2 for downsampling. At each downsampling step we double the number of feature channels. Every step in the expansive path consists of an upsampling of the feature map followed by a 2x2 convolution (“up-convolution”) that halves the number of feature channels, a concatenation with the correspondingly cropped feature map from the contracting path, and two 3x3 convolutions, each followed by a ReLU."
   ]
  },
  {
   "cell_type": "markdown",
   "metadata": {
    "id": "eurySIc8Y34t"
   },
   "source": [
    "The figure above illustrates the 2015 U-Net architecture. However, for this homework, we require a customized version with additional sub-modules. In the following cells, we will outline the necessary modules and complete their implementation to construct our final network."
   ]
  },
  {
   "cell_type": "markdown",
   "metadata": {
    "id": "OedZlHGeY34t"
   },
   "source": [
    "#### Resnet Block\n",
    "\n",
    "As a base sub-module, we define each Resnet block as two consecutive convolutional layers with a Group Normalization and SiLU activation `before` each convolutional layer. This block will be used other sub-modules (eg:Down/Up blocks):\n",
    "* GroupNorm\n",
    "* SiLU\n",
    "* Conv\n",
    "* GroupNorm\n",
    "* SiLU\n",
    "* Conv\n",
    "\n",
    "Additionally, there's a linear projection layer that converts the time embedding vector to a vector matching the number of output channels. This projected time embedding is then added to the input after the first convolutional layer. Also, by removing the residual connection, you can use this block as a convolutional network.\n",
    "\n",
    "Note that if the number of input and output channels for feature maps differs, adding the input to the output for a residual connection may cause issues. In such cases, a 1x1 convolution can be used to ensure input channels match the output dimensions.\n",
    "\n",
    "Optionally, a dropout layer can added before the second convolution layer. By default, its probability is set to zero, but you can activate it if necessary in your final architecture."
   ]
  },
  {
   "cell_type": "code",
   "execution_count": null,
   "metadata": {
    "id": "OYQ0JsckY34t"
   },
   "outputs": [],
   "source": [
    "class ResnetBlock(nn.Module):\n",
    "\n",
    "    def __init__(self, in_ch, out_ch, temb_size, dropout=0, norm_groups=1, residual=True, **kwargs):\n",
    "        super(ResnetBlock, self).__init__()\n",
    "        kernel_size = 3\n",
    "        padding = 'same'\n",
    "        bias = True\n",
    "        self.residual = residual\n",
    "\n",
    "        # \n",
    "        self.stack1 = nn.Sequential(\n",
    "            nn.GroupNorm(num_groups=norm_groups, num_channels=in_ch),\n",
    "            nn.SiLU(),\n",
    "            nn.Conv2d(in_ch, out_ch, kernel_size, padding=padding, bias=bias),\n",
    "        )\n",
    "\n",
    "        self.time_projction = nn.Linear(temb_size, out_ch)\n",
    "        # if cemb_size:\n",
    "        #     self.class_projection = nn.Linear(cemb_size, out_ch)\n",
    "        self.stack2 = nn.Sequential(\n",
    "            nn.GroupNorm(num_groups=norm_groups, num_channels=out_ch),\n",
    "            nn.SiLU(),\n",
    "            nn.Dropout(dropout),\n",
    "            nn.Conv2d(out_ch, out_ch, kernel_size, padding=padding, bias=bias),\n",
    "        )\n",
    "\n",
    "        self.use_skip_shortcut = in_ch != out_ch\n",
    "\n",
    "        self.skip_shortcut = None\n",
    "        if self.use_skip_shortcut:\n",
    "            self.skip_shortcut = nn.Conv2d(\n",
    "                in_ch,\n",
    "                out_ch,\n",
    "                kernel_size=1,\n",
    "                stride=1,\n",
    "                padding=0,\n",
    "                bias=True,\n",
    "            )\n",
    "\n",
    "    def forward(self, x, t):\n",
    "\n",
    "        #\n",
    "        z = self.stack1(x)\n",
    "        t = self.time_projction(t)[:,:, None, None]\n",
    "        z = self.stack2(z + t)\n",
    "        if self.use_skip_shortcut:\n",
    "            x = self.skip_shortcut(x)\n",
    "        return z + x if self.residual else z\n"
   ]
  },
  {
   "cell_type": "code",
   "execution_count": null,
   "metadata": {
    "colab": {
     "base_uri": "https://localhost:8080/"
    },
    "id": "qOw-TP60Y34t",
    "outputId": "b62c2e81-2c0b-4add-9578-e4874e869a20"
   },
   "outputs": [
    {
     "data": {
      "text/plain": [
       "torch.Size([1, 256, 64, 64])"
      ]
     },
     "execution_count": 11,
     "metadata": {},
     "output_type": "execute_result"
    }
   ],
   "source": [
    "# test out block\n",
    "test_module = ResnetBlock(128, 256, 32)\n",
    "temb = torch.randn(1, 32)\n",
    "sample = torch.randn(1, 128, 64, 64)\n",
    "output = test_module(sample, temb)\n",
    "assert sample.shape[2:] == output.shape[2:]\n",
    "assert output.shape[1] == 256\n",
    "output.shape"
   ]
  },
  {
   "cell_type": "markdown",
   "metadata": {
    "id": "bzzPSeteY34u"
   },
   "source": [
    "#### Attention Block\n",
    "This sub-module consisting of :\n",
    " * a Group Normalization\n",
    " * Multi-head Attention (you can use `torch.nn`)\n",
    " * residual conntection\n",
    " * a feed-forward layer\n",
    " * and another residual connection.\n",
    "\n",
    "\n"
   ]
  },
  {
   "cell_type": "code",
   "execution_count": null,
   "metadata": {
    "id": "sfKnA1PHY34u"
   },
   "outputs": [],
   "source": [
    "class AttentionBlock(nn.Module):\n",
    "\n",
    "    def __init__(self, feature_dim, num_heads=4, norm_groups=1, dropout=0, **kwargs):\n",
    "\n",
    "        super(AttentionBlock, self).__init__()\n",
    "\n",
    "        # \n",
    "        self.feature_dim = feature_dim\n",
    "        # self.norm = nn.LayerNorm([feature_dim])\n",
    "        self.norm = nn.GroupNorm(num_groups=norm_groups, num_channels=feature_dim)\n",
    "        self.attention = nn.MultiheadAttention(embed_dim=feature_dim, num_heads=num_heads, batch_first=True)\n",
    "        self.stack = nn.Sequential(\n",
    "            nn.Linear(feature_dim, feature_dim),\n",
    "            nn.Dropout(dropout),\n",
    "        )\n",
    "\n",
    "\n",
    "\n",
    "    def forward(self, x):\n",
    "\n",
    "        B, C, H, W = x.shape\n",
    "\n",
    "        x_norm = self.norm(x.view(-1, self.feature_dim, H*W)).transpose(1, 2)\n",
    "        atten, _ = self.attention(x_norm, x_norm, x_norm, need_weights=False)\n",
    "        atten = atten + x.view(-1, self.feature_dim, H*W).transpose(1, 2)\n",
    "        z = self.stack(atten)\n",
    "        z = z.transpose(1, 2).view(-1, self.feature_dim, H, W) + x\n",
    "\n",
    "        return z\n",
    "\n"
   ]
  },
  {
   "cell_type": "markdown",
   "metadata": {
    "id": "a0YFTl-RY34u"
   },
   "source": [
    "#### Down Block\n",
    "\n",
    "This block is a downsampling block comprised of a series of ResnetBlocks, followed by a downsampling module. The number of **ResnetBlocks** is determined by `num_layers`, also input channels for the first ResnetBlock is `in_ch`, and the output channels for last one is `out_ch`, which should be considered in your implementation.\n",
    "\n",
    "The downsampling module halves the width and height of the input and can be implemented using either a convolution layer with `stride=2` or an average pooling layer with `kernel_size=2`, depending on your architecture.\n",
    "\n",
    "\n"
   ]
  },
  {
   "cell_type": "code",
   "execution_count": null,
   "metadata": {
    "id": "MDGONwnoY34v"
   },
   "outputs": [],
   "source": [
    "class DownBlock(nn.Module):\n",
    "\n",
    "    def __init__(self, in_ch, out_ch, temb_size, dropout, norm_groups, num_layers=1, add_sampling=True, **kwargs):\n",
    "        super(DownBlock, self).__init__()\n",
    "\n",
    "        # Create a list to store ResnetBlocks\n",
    "        blocks = []\n",
    "\n",
    "        # Loop to create specified number of ResnetBlocks\n",
    "        for i in range(num_layers):\n",
    "            blocks.append(\n",
    "                ResnetBlock(\n",
    "                    in_ch=in_ch,\n",
    "                    out_ch=out_ch,\n",
    "                    temb_size=temb_size,\n",
    "                    dropout=dropout,\n",
    "                    norm_groups=norm_groups,\n",
    "                )\n",
    "            )\n",
    "            in_ch = out_ch  # Update in_ch for the next layer\n",
    "\n",
    "        # Convert the list of ResnetBlocks to a ModuleList\n",
    "        self.res_blocks = nn.ModuleList(blocks)\n",
    "\n",
    "        # Initialize downsampling layer if add_sampling is True\n",
    "        self.sampler = None\n",
    "        if add_sampling:\n",
    "            self.sampler = nn.Conv2d(out_ch, out_ch, kernel_size=3, stride=2, padding=1, bias=True)\n",
    "            # Alternative downsampling method: self.sampler = nn.AvgPool2d(kernel_size=2, stride=2)\n",
    "\n",
    "    def forward(self, x, t):\n",
    "\n",
    "\n",
    "        hidden_states = ()\n",
    "        for block in self.res_blocks:\n",
    "            x = block(x, t)\n",
    "            hidden_states = hidden_states + (x,)\n",
    "        # Apply downsampling if sampler is defined\n",
    "        if self.sampler:\n",
    "            x = self.sampler(x)\n",
    "            hidden_states = hidden_states + (x,)\n",
    "        return x, hidden_states\n",
    "\n"
   ]
  },
  {
   "cell_type": "code",
   "execution_count": null,
   "metadata": {
    "colab": {
     "base_uri": "https://localhost:8080/"
    },
    "id": "pq0xsHD3Y34v",
    "outputId": "5650838d-aa0f-4b50-874d-9f6a91f283dc"
   },
   "outputs": [
    {
     "name": "stdout",
     "output_type": "stream",
     "text": [
      "successful.\n"
     ]
    }
   ],
   "source": [
    "# test your block\n",
    "test_module1 = DownBlock(128, 256, 128, 0 , 32,)\n",
    "test_module2 = DownBlock(128, 256, 128, 0 , 32, 3, add_sampling=False)\n",
    "temb = torch.randn(1, 128)\n",
    "sample = torch.randn(1, 128, 64, 64)\n",
    "output1, hidden1 = test_module1(sample, temb)\n",
    "output2, hidden2 = test_module2(sample, temb)\n",
    "assert sample.shape[2] == output1.shape[2] * 2\n",
    "assert sample.shape[2] == output2.shape[2]\n",
    "assert output1.shape[1] == 256\n",
    "assert output2.shape[1] == 256\n",
    "assert len(hidden1) == 2\n",
    "assert len(hidden2) == 3\n",
    "print('successful.')"
   ]
  },
  {
   "cell_type": "markdown",
   "metadata": {
    "id": "7CivM1oVY34v"
   },
   "source": [
    "#### AttentionDown Block\n",
    "\n",
    "This block is similar to the DownBlock but with two differences:\n",
    "\n",
    "1. There's an Attention Block after each ResnetBlock, resulting in `num_layers` ResnetBlocks and `num_layers` AttentionBlocks.\n",
    "2. The downsampling module is always present.\n",
    "\n",
    "Note that you can choose between two types of downsampling modules, similar to the DownBlock."
   ]
  },
  {
   "cell_type": "code",
   "execution_count": null,
   "metadata": {
    "id": "9ABt1p2ZY34v"
   },
   "outputs": [],
   "source": [
    "class AttntionDownBlock(nn.Module):\n",
    "\n",
    "    def __init__(self, in_ch, out_ch, temb_size, dropout, norm_groups, num_layers=1, num_heads=8, **kwargs):\n",
    "        super(AttntionDownBlock, self).__init__()\n",
    "\n",
    "        atten_blocks = []\n",
    "        res_blocks = []\n",
    "\n",
    "        # Loop to create specified number of ResnetBlocks and AttentionBlocks\n",
    "        for i in range(num_layers):\n",
    "            res_blocks.append(\n",
    "                ResnetBlock(\n",
    "                    in_ch=in_ch,\n",
    "                    out_ch=out_ch,\n",
    "                    temb_size=temb_size,\n",
    "                    dropout=dropout,\n",
    "                    norm_groups=norm_groups,\n",
    "                )\n",
    "            )\n",
    "            atten_blocks.append(\n",
    "                AttentionBlock(\n",
    "                    feature_dim=out_ch,\n",
    "                    num_heads=num_heads,\n",
    "                    norm_groups=norm_groups,\n",
    "                    dropout=dropout,\n",
    "                )\n",
    "            )\n",
    "            in_ch = out_ch  # Update in_ch for the next layer\n",
    "\n",
    "        # Convert the lists of ResnetBlocks and AttentionBlocks to ModuleLists\n",
    "        self.atten_blocks = nn.ModuleList(atten_blocks)\n",
    "        self.res_blocks = nn.ModuleList(res_blocks)\n",
    "\n",
    "        # Initialize downsampling layer\n",
    "        self.sampler = nn.Conv2d(out_ch, out_ch, kernel_size=3, stride=2, padding=1, bias=True)\n",
    "\n",
    "\n",
    "    def forward(self, x, t):\n",
    "\n",
    "        hidden_states = ()\n",
    "        # Iterate through ResnetBlocks and AttentionBlocks\n",
    "        for res, att in zip(self.res_blocks, self.atten_blocks):\n",
    "            x = res(x, t)\n",
    "            x = att(x)\n",
    "            hidden_states = hidden_states + (x,)\n",
    "        # Apply downsampling\n",
    "        x = self.sampler(x)\n",
    "        hidden_states = hidden_states + (x,)\n",
    "        return x, hidden_states\n"
   ]
  },
  {
   "cell_type": "code",
   "execution_count": null,
   "metadata": {
    "colab": {
     "base_uri": "https://localhost:8080/"
    },
    "id": "R5n-sMz4Y340",
    "outputId": "56ed29b0-390e-435e-af2d-3070d1030557"
   },
   "outputs": [
    {
     "name": "stdout",
     "output_type": "stream",
     "text": [
      "successful.\n"
     ]
    }
   ],
   "source": [
    "# test your block\n",
    "test_module = AttntionDownBlock(128, 256, 128, 0 , 32,3)\n",
    "temb = torch.randn(1, 128)\n",
    "sample = torch.randn(1, 128, 64, 64)\n",
    "output, hidden = test_module(sample, temb)\n",
    "assert sample.shape[2] == output1.shape[2] * 2\n",
    "assert output.shape[1] == 256\n",
    "assert len(hidden) == 4\n",
    "print('successful.')"
   ]
  },
  {
   "cell_type": "markdown",
   "metadata": {
    "id": "7sFaRdrCY341"
   },
   "source": [
    "#### Up Block\n",
    "This block is utilized in the expansive path of the U-Net. Its architecture resembles the DownBlocks, consisting of `num_layers` consecutive ResnetBlocks. Following the ResnetBlocks, there's an upsample module with two possible options based on the network architecture:\n",
    "\n",
    "* An upsample layer followed by a convolution layer.\n",
    "* A convolution transpose layer with appropriate parameters.\n",
    "\n",
    "The UpBlock also includes an extra parameter, `skip_ch`, indicating the number of channels in the skip connection from the contractive path. Note that these skip channels affect the number of input channels of the ResnetBlocks, which should be considered in your implementation.\n",
    "\n",
    "In the forward method, in addition to the input tensor and time embedding tensor, it takes the hidden states from the contractive path of the U-Net as the third input. Each hidden state is concatenated with the input before processing it through a ResnetBlock.\n"
   ]
  },
  {
   "cell_type": "code",
   "execution_count": null,
   "metadata": {
    "id": "AedZAyJvY341"
   },
   "outputs": [],
   "source": [
    "class UpBlock(nn.Module):\n",
    "\n",
    "    def __init__(self, in_ch, skip_ch, out_ch, temb_size, dropout, norm_groups, num_layers=1, add_sampling=True, **kwargs):\n",
    "        super(UpBlock, self).__init__()\n",
    "\n",
    "        blocks = []\n",
    "\n",
    "        # Loop to create specified number of ResnetBlocks\n",
    "        for i in range(num_layers):\n",
    "            # Determine input channels for ResnetBlock based on layer index\n",
    "            res_skip_channels = skip_ch if (i == num_layers - 1) else out_ch\n",
    "            resnet_in_channels =  in_ch if i == 0 else out_ch\n",
    "\n",
    "            blocks.append(\n",
    "                ResnetBlock(\n",
    "                    in_ch=resnet_in_channels + res_skip_channels,\n",
    "                    out_ch=out_ch,\n",
    "                    temb_size=temb_size,\n",
    "                    norm_groups=norm_groups,\n",
    "                    dropout=dropout,\n",
    "                )\n",
    "            )\n",
    "\n",
    "        # Convert the list of ResnetBlocks to a ModuleList\n",
    "        self.res_blocks = nn.ModuleList(blocks)\n",
    "\n",
    "        # Initialize upsampling layer if add_sampling is True\n",
    "        self.sampler = None\n",
    "        if add_sampling:\n",
    "            self.sampler = nn.Sequential(\n",
    "                nn.Upsample(scale_factor=2, mode=\"nearest\"),\n",
    "                nn.Conv2d(out_ch, out_ch, kernel_size=3, padding=1, bias=True)\n",
    "            )\n",
    "            # Alternative upsampling method: self.sampler = nn.ConvTranspose2d(out_ch, out_ch, kernel_size=4, stride=2, padding=padding, bias=True)\n",
    "\n",
    "    def forward(self, x, t, hidden_states):\n",
    "\n",
    "        for block in self.res_blocks:\n",
    "            hs = hidden_states[-1]  # Get the last hidden state\n",
    "            hidden_states = hidden_states[:-1]  # Remove the last hidden state from the tuple\n",
    "            x = torch.cat([x, hs], dim=1)  # Concatenate the input tensor with the hidden state\n",
    "            x = block(x, t)  # Pass through the ResnetBlock\n",
    "        # Apply upsampling if sampler is defined\n",
    "        if self.sampler:\n",
    "            x = self.sampler(x)\n",
    "        return x\n"
   ]
  },
  {
   "cell_type": "code",
   "execution_count": null,
   "metadata": {
    "colab": {
     "base_uri": "https://localhost:8080/"
    },
    "id": "B7d9FE0IY341",
    "outputId": "f782e69c-bedb-47d3-f11b-895730482eee"
   },
   "outputs": [
    {
     "name": "stdout",
     "output_type": "stream",
     "text": [
      "successful.\n"
     ]
    }
   ],
   "source": [
    "# test your block\n",
    "test_module = UpBlock(256 ,128, 256, 128, 0 , 32,3)\n",
    "temb = torch.randn(1, 128)\n",
    "sample = torch.randn(1, 256, 64, 64)\n",
    "hidden_states = (torch.randn(1, 128, 64, 64), torch.randn(1, 256, 64, 64), torch.randn(1, 256, 64, 64))\n",
    "output = test_module(sample, temb, hidden_states)\n",
    "assert sample.shape[2] * 2  == output.shape[2]\n",
    "assert output.shape[1] == 256\n",
    "print('successful.')"
   ]
  },
  {
   "cell_type": "code",
   "execution_count": null,
   "metadata": {
    "colab": {
     "base_uri": "https://localhost:8080/"
    },
    "id": "IJXYGCRIY342",
    "outputId": "25358eca-a075-4542-d061-dd60ac17f882"
   },
   "outputs": [
    {
     "data": {
      "text/plain": [
       "torch.Size([1, 256, 128, 128])"
      ]
     },
     "execution_count": 19,
     "metadata": {},
     "output_type": "execute_result"
    }
   ],
   "source": [
    "output.shape"
   ]
  },
  {
   "cell_type": "markdown",
   "metadata": {
    "id": "geHWuR5EY342"
   },
   "source": [
    "#### AttentionUp Block\n",
    "This block shares the same architecture as the UpBlock, with an additional attention block after each ResnetBlock. Furthermore, it includes an upsample module, similar to the UpBlock, following the Resnet and attention blocks."
   ]
  },
  {
   "cell_type": "code",
   "execution_count": null,
   "metadata": {
    "id": "ah07XOvHY342"
   },
   "outputs": [],
   "source": [
    "class AttentionUpBlock(nn.Module):\n",
    "\n",
    "    def __init__(self, in_ch, skip_ch, out_ch, temb_size, dropout, norm_groups, num_layers=1, num_heads=8, **kwargs):\n",
    "        super(AttentionUpBlock, self).__init__()\n",
    "\n",
    "        res_blocks = []\n",
    "        atten_blocks = []\n",
    "\n",
    "        # Loop to create specified number of ResnetBlocks and AttentionBlocks\n",
    "        for i in range(num_layers):\n",
    "            # Determine input channels for ResnetBlock based on layer index\n",
    "            res_skip_channels = skip_ch if (i == num_layers - 1) else out_ch\n",
    "            resnet_in_channels = in_ch if i == 0 else out_ch\n",
    "\n",
    "            res_blocks.append(\n",
    "                ResnetBlock(\n",
    "                    in_ch=resnet_in_channels + res_skip_channels,\n",
    "                    out_ch=out_ch,\n",
    "                    temb_size=temb_size,\n",
    "                    norm_groups=norm_groups,\n",
    "                    dropout=dropout,\n",
    "                )\n",
    "            )\n",
    "            atten_blocks.append(\n",
    "                AttentionBlock(\n",
    "                    feature_dim=out_ch,\n",
    "                    num_heads=num_heads,\n",
    "                    norm_groups=norm_groups,\n",
    "                    dropout=dropout,\n",
    "                )\n",
    "            )\n",
    "\n",
    "        # Convert the lists of ResnetBlocks and AttentionBlocks to ModuleLists\n",
    "        self.res_blocks = nn.ModuleList(res_blocks)\n",
    "        self.atten_blocks = nn.ModuleList(atten_blocks)\n",
    "\n",
    "        # Initialize upsampling layer\n",
    "        self.sampler = nn.Sequential(\n",
    "            nn.Upsample(scale_factor=2, mode=\"nearest\"),\n",
    "            nn.Conv2d(out_ch, out_ch, kernel_size=3, padding=1, bias=True)\n",
    "        )\n",
    "\n",
    "    def forward(self, x, t, hidden_states):\n",
    "\n",
    "        for res, att in zip(self.res_blocks, self.atten_blocks):\n",
    "            hs = hidden_states[-1]  # Get the last hidden state\n",
    "            hidden_states = hidden_states[:-1]  # Remove the last hidden state from the tuple\n",
    "            x = torch.cat([x, hs], dim=1)  # Concatenate the input tensor with the hidden state\n",
    "            x = res(x, t)  # Pass through the ResnetBlock\n",
    "            x = att(x)  # Pass through the AttentionBlock\n",
    "        # Apply upsampling\n",
    "        x = self.sampler(x)\n",
    "        return x\n"
   ]
  },
  {
   "cell_type": "markdown",
   "metadata": {
    "id": "YuFwzE2ZY342"
   },
   "source": [
    "#### Mid Block\n",
    "In the U-Net architecture, there are bottleneck layers between the contractive and expansive paths. These can be implemented using ResnetBlocks with or without attention layers. Specifically, we define the MidBlock with `num_layers` of ResnetBlocks having the same number of input and output channels, followed by an AttentionBlock."
   ]
  },
  {
   "cell_type": "code",
   "execution_count": null,
   "metadata": {
    "id": "6LU5bnnsY342"
   },
   "outputs": [],
   "source": [
    "class MidBlock(nn.Module):\n",
    "\n",
    "    def __init__(self, in_ch, temb_size, dropout, norm_groups, num_layers=1, num_heads=8, **kwargs):\n",
    "        super(MidBlock, self).__init__()\n",
    "        # Create a list to store ResnetBlocks\n",
    "        blocks = []\n",
    "\n",
    "        # Loop to create specified number of ResnetBlocks\n",
    "        for i in range(num_layers):\n",
    "            blocks.append(\n",
    "                ResnetBlock(\n",
    "                    in_ch=in_ch,\n",
    "                    out_ch=in_ch,\n",
    "                    temb_size=temb_size,\n",
    "                    dropout=dropout,\n",
    "                    norm_groups=norm_groups,\n",
    "                )\n",
    "            )\n",
    "\n",
    "        # Convert the list of ResnetBlocks to a ModuleList\n",
    "        self.res_blocks = nn.ModuleList(blocks)\n",
    "        self.attention = AttentionBlock(\n",
    "                    feature_dim=in_ch,\n",
    "                    num_heads=num_heads,\n",
    "                    norm_groups=norm_groups,\n",
    "                    dropout=dropout,\n",
    "                )\n",
    "\n",
    "    def forward(self, x, t):\n",
    "\n",
    "        for res in self.res_blocks:\n",
    "            x = res(x, t)\n",
    "        x = self.attention(x)\n",
    "        return x\n"
   ]
  },
  {
   "cell_type": "markdown",
   "metadata": {
    "id": "kCTy2WhdY343"
   },
   "source": [
    "#### Positional Encoding\n",
    "In previous sections, we discussed how U-Net predicts noise at each time step. To incorporate the time step into the network, we encode it into an embedding vector and pass it to various layers. Various position encoding methods exist, but we use Sinusoidal position embeddings proposed in the [\"Attention is All You Need.\"](https://arxiv.org/pdf/1706.03762.pdf) paper for this purpose. For more technical details, please refer to the paper."
   ]
  },
  {
   "cell_type": "code",
   "execution_count": null,
   "metadata": {
    "id": "s-tgl0VsY343"
   },
   "outputs": [],
   "source": [
    "class SinusoidalPosition(nn.Module):\n",
    "\n",
    "\n",
    "    def __init__(self, embedding_dim, max_period=10000):\n",
    "        super(SinusoidalPosition, self).__init__()\n",
    "        self.max_period = max_period\n",
    "        self.embedding_dim = embedding_dim\n",
    "\n",
    "\n",
    "    def forward(self, timesteps: torch.Tensor):\n",
    "\n",
    "        assert len(timesteps.shape) == 1, \"Timesteps should be a 1d-array\"\n",
    "\n",
    "        # Calculate half_dim for sine and cosine embeddings\n",
    "        half_dim = self.embedding_dim // 2\n",
    "\n",
    "        # Calculate exponents for sine and cosine embeddings\n",
    "        exponent = -math.log(self.max_period) * torch.arange(start=0, end=half_dim, dtype=torch.float32, device=timesteps.device)\n",
    "        exponent = exponent / (half_dim - 1)\n",
    "\n",
    "        # Calculate sine and cosine embeddings\n",
    "        emb = torch.exp(exponent)\n",
    "        emb = timesteps[:, None].float() * emb[None, :]\n",
    "\n",
    "        # Concatenate sine and cosine embeddings\n",
    "        emb = torch.cat([torch.sin(emb), torch.cos(emb)], dim=-1)\n",
    "\n",
    "        # Zero pad if necessary\n",
    "        if self.embedding_dim % 2 == 1:\n",
    "            emb = torch.nn.functional.pad(emb, (0, 1, 0, 0))\n",
    "\n",
    "        return emb\n"
   ]
  },
  {
   "cell_type": "markdown",
   "metadata": {
    "id": "1z3PQoj7Y343"
   },
   "source": [
    "#### Final Network\n",
    "In this section, we'll construct our U-Net architecture using the blocks defined above. The architecture of the network varies depending on the problem we want to solve. However, for simplicity, we propose a basic architecture suitable for our captcha generation problrm.\n",
    "Proposed Contractive Path Architecture:\n",
    "- Convolution layer (in_ch > 128)\n",
    "- DownBlock (128 > 128), num_layers=2\n",
    "- DownBlock (128 > 128), num_layers=2\n",
    "- DownBlock (128 > 256), num_layers=2\n",
    "- AttentionDownBlock (256 > 256), num_layers=2\n",
    "- AttentionDownBlock (256 > 512), num_layers=2\n",
    "- DownBlock (512 > 512, without sampling)\n",
    "\n",
    "Proposed Bottleneck Architecture:\n",
    "- MidBlock\n",
    "\n",
    "Proposed Expansive Path Architecture (calculate input and skip channels depending on the contractive path):\n",
    "- UpBlock\n",
    "- AttentionUpBlock\n",
    "- AttentionUpBlock\n",
    "- UpBlock\n",
    "- UpBlock\n",
    "- UpBlock (without sampling)\n",
    "- (Optional) Group norm + SiLU\n",
    "- Convolution layer\n",
    "\n"
   ]
  },
  {
   "cell_type": "code",
   "execution_count": null,
   "metadata": {
    "id": "2Mt7xIxuH1a2"
   },
   "outputs": [],
   "source": [
    "class UNet(nn.Module):\n",
    "\n",
    "    def __init__(self, in_ch, out_ch, temb_size, norm_groups, dropout=0, num_layers=2, num_heads=8, **kwargs):\n",
    "        super(UNet, self).__init__()\n",
    "\n",
    "        # Initialize parameters\n",
    "        self.temb_size = temb_size\n",
    "        self.norm_groups = norm_groups\n",
    "        self.num_res_layers = num_layers\n",
    "        self.dropout = dropout\n",
    "        self.num_attention_heads = num_heads\n",
    "        self.pos_embedding_dim = 128\n",
    "\n",
    "        block_out_channels=(128, 128, 256, 256, 512, 512)\n",
    "\n",
    "        self.pos_encoding = SinusoidalPosition(self.pos_embedding_dim)\n",
    "        self.time_proj = nn.Sequential(\n",
    "            nn.Linear(self.pos_embedding_dim, self.temb_size),\n",
    "            nn.SiLU(),\n",
    "            nn.Linear(self.temb_size, self.temb_size)\n",
    "        )\n",
    "\n",
    "        self.conv_in = nn.Conv2d(in_ch, block_out_channels[0], kernel_size=3, padding=(1, 1))\n",
    "        self.down = nn.ModuleList([])\n",
    "        # down blocks\n",
    "        self.down.append(DownBlock(\n",
    "            in_ch=block_out_channels[0],\n",
    "            out_ch=block_out_channels[0],\n",
    "            temb_size=self.temb_size,\n",
    "            dropout=self.dropout ,\n",
    "            norm_groups=self.norm_groups,\n",
    "            num_layers=self.num_res_layers,\n",
    "        ))\n",
    "        self.down.append(DownBlock(\n",
    "            in_ch=block_out_channels[0],\n",
    "            out_ch=block_out_channels[1],\n",
    "            temb_size=self.temb_size,\n",
    "            dropout=self.dropout ,\n",
    "            norm_groups=self.norm_groups,\n",
    "            num_layers=self.num_res_layers,\n",
    "        ))\n",
    "        self.down.append(DownBlock(\n",
    "            in_ch=block_out_channels[1],\n",
    "            out_ch=block_out_channels[2],\n",
    "            temb_size=self.temb_size,\n",
    "            dropout=self.dropout,\n",
    "            norm_groups=self.norm_groups,\n",
    "            num_layers=self.num_res_layers,\n",
    "        ))\n",
    "        self.down.append(AttntionDownBlock(\n",
    "            in_ch=block_out_channels[2],\n",
    "            out_ch=block_out_channels[3],\n",
    "            temb_size=self.temb_size,\n",
    "            dropout=self.dropout,\n",
    "            norm_groups=self.norm_groups,\n",
    "            num_layers=self.num_res_layers,\n",
    "        ))\n",
    "        self.down.append(AttntionDownBlock(\n",
    "            in_ch=block_out_channels[3],\n",
    "            out_ch=block_out_channels[4],\n",
    "            temb_size=self.temb_size,\n",
    "            dropout=self.dropout,\n",
    "            norm_groups=self.norm_groups,\n",
    "            num_layers=self.num_res_layers,\n",
    "            num_heads=self.num_attention_heads,\n",
    "        ))\n",
    "        self.down.append(DownBlock(\n",
    "            in_ch=block_out_channels[4],\n",
    "            out_ch=block_out_channels[5],\n",
    "            temb_size=self.temb_size,\n",
    "            dropout=self.dropout,\n",
    "            norm_groups=self.norm_groups,\n",
    "            num_layers=self.num_res_layers,\n",
    "            add_sampling=False,\n",
    "        ))\n",
    "        # mid blocks\n",
    "        self.mid = MidBlock(\n",
    "            in_ch=block_out_channels[-1],\n",
    "            temb_size=self.temb_size,\n",
    "            dropout=self.dropout,\n",
    "            norm_groups=self.norm_groups,\n",
    "            num_heads=self.num_attention_heads,\n",
    "        )\n",
    "\n",
    "        # up blocks\n",
    "        self.up = nn.ModuleList([])\n",
    "\n",
    "        self.up.append(UpBlock(\n",
    "            in_ch=512,\n",
    "            skip_ch=512,\n",
    "            out_ch=512,\n",
    "            temb_size=self.temb_size,\n",
    "            dropout=self.dropout,\n",
    "            norm_groups=self.norm_groups,\n",
    "            num_layers=self.num_res_layers+1,\n",
    "\n",
    "        ))\n",
    "        self.up.append(AttentionUpBlock(\n",
    "            in_ch=512,\n",
    "            skip_ch=256,\n",
    "            out_ch=512,\n",
    "            temb_size=self.temb_size,\n",
    "            dropout=self.dropout,\n",
    "            norm_groups=self.norm_groups,\n",
    "            num_layers=self.num_res_layers+1,\n",
    "            num_heads=self.num_attention_heads,\n",
    "\n",
    "        ))\n",
    "        self.up.append(AttentionUpBlock(\n",
    "            in_ch=512,\n",
    "            skip_ch=256,\n",
    "            out_ch=256,\n",
    "            temb_size=self.temb_size,\n",
    "            dropout=self.dropout,\n",
    "            norm_groups=self.norm_groups,\n",
    "            num_layers=self.num_res_layers+1,\n",
    "\n",
    "        ))\n",
    "        self.up.append(UpBlock(\n",
    "            in_ch=256,\n",
    "            skip_ch=128,\n",
    "            out_ch=256,\n",
    "            temb_size=self.temb_size,\n",
    "            dropout=self.dropout,\n",
    "            norm_groups=self.norm_groups,\n",
    "            num_layers=self.num_res_layers+1,\n",
    "\n",
    "        ))\n",
    "        self.up.append(UpBlock(\n",
    "            in_ch=256,\n",
    "            skip_ch=128,\n",
    "            out_ch=128,\n",
    "            temb_size=self.temb_size,\n",
    "            dropout=self.dropout,\n",
    "            norm_groups=self.norm_groups,\n",
    "            num_layers=self.num_res_layers+1,\n",
    "            # add_sampling=False,\n",
    "        ))\n",
    "        self.up.append(UpBlock(\n",
    "            in_ch=128,\n",
    "            skip_ch=128,\n",
    "            out_ch=128,\n",
    "            temb_size=self.temb_size,\n",
    "            dropout=self.dropout,\n",
    "            norm_groups=self.norm_groups,\n",
    "            num_layers=self.num_res_layers+1,\n",
    "            add_sampling=False,\n",
    "\n",
    "        ))\n",
    "        self.to_out = nn.Sequential(\n",
    "            nn.GroupNorm(num_channels=block_out_channels[0], num_groups=self.norm_groups),\n",
    "            nn.SiLU(),\n",
    "            nn.Conv2d(block_out_channels[0], out_ch, kernel_size=3, padding=1),\n",
    "        )\n",
    "\n",
    "\n",
    "\n",
    "    def forward(self, x, t):\n",
    "\n",
    "        # Perform positional encoding\n",
    "        t = self.pos_encoding(t)\n",
    "        temb = self.time_proj(t)\n",
    "        temb = temb\n",
    "\n",
    "        # Apply convolutional input layer\n",
    "        x = self.conv_in(x)\n",
    "        hidden_states = (x, )\n",
    "\n",
    "        # Apply downsampling blocks\n",
    "        for d in self.down:\n",
    "            x, hs = d(x, temb)\n",
    "            hidden_states += hs\n",
    "\n",
    "        # Apply mid block\n",
    "        x = self.mid(x, temb)\n",
    "\n",
    "        # Apply upsampling blocks\n",
    "        for i, u in enumerate(self.up):\n",
    "            res_samples = hidden_states[-len(u.res_blocks) :]\n",
    "            hidden_states = hidden_states[: -len(u.res_blocks)]\n",
    "            x = u(x, temb, res_samples)\n",
    "\n",
    "        # Apply output layer\n",
    "        x = self.to_out(x)\n",
    "\n",
    "        return x\n"
   ]
  },
  {
   "cell_type": "code",
   "execution_count": null,
   "metadata": {
    "colab": {
     "base_uri": "https://localhost:8080/"
    },
    "id": "G94xgj4eY344",
    "outputId": "49cfda9d-4143-4326-d1e5-ab81f5d7ceac"
   },
   "outputs": [
    {
     "data": {
      "text/plain": [
       "torch.Size([1, 1, 64, 64])"
      ]
     },
     "execution_count": 24,
     "metadata": {},
     "output_type": "execute_result"
    }
   ],
   "source": [
    "# test unet\n",
    "test_unet = UNet(1, 1, 32, 8)\n",
    "time_steps = torch.tensor([1])\n",
    "sample = torch.randn(1, 1, 64, 64)\n",
    "output = test_unet(sample, time_steps)\n",
    "assert sample.shape == output.shape\n",
    "output.shape"
   ]
  },
  {
   "cell_type": "markdown",
   "metadata": {
    "id": "9PhUS1f8Y344"
   },
   "source": [
    "## Noise Schuduling\n",
    "Recall that the in diffusion forward process given a data point sampled from a data distribution $ x_0 \\sim q(x) $, we want to get a noisy image at step $T$. In particular, the forward diffusion process adds a small amount of Gaussian noise to the sample in $ T $ steps and produces a sequence of noisy samples $ x_1, \\ldots, x_T $. The forward diffusion process is controlled by a variance schedule $ \\{\\beta_t \\in (0.0001, 0.02)\\}^T_{t=1} $.\n",
    "\n",
    "$$ q(x_t|x_{t-1}) = N(x_t; \\sqrt{1 - \\beta_t}x_{t-1}, \\beta_t\\mathbf{I}) $$\n",
    "\n",
    "$$ q(x_{1:T}|x_0) = \\prod_{t=1}^T q(x_t|x_{t-1}) $$\n",
    "\n",
    "The sampled image $ x_0 $ gradually becomes noisier as the step $ t $ becomes larger. Eventually when $ T \\rightarrow \\infty $, $ x_T $ is equivalent to an isotropic Gaussian distribution. This is a markov process and we can apply the above formulation $T$ times to get to a noisy image at timestep $T$. However, this process is slow and expensive. Fortunately this is not necessary!\n",
    "\n",
    "\n",
    "Recall that we can sample $x_t$ at any timestep $t$ **directly** using the reparametarization trick.  \n",
    "Let $\\alpha_t = 1-\\beta_t$ and $\\hat{\\alpha}_t = \\prod_{i=1}^t \\alpha_i$.  \n",
    "Then  \n",
    "$ q(x_t|x_0) = N(x_t; \\sqrt{\\hat{\\alpha}_t}x_0, (1 - \\hat{\\alpha}_t)\\mathbf{I})$  \n",
    "\n",
    "Also in backward process we  can use below algorithm for sampling after training the diffusion model:\n",
    "\n",
    "1. $ x_T \\sim N(0, I) $\n",
    "2. for $ t = T, \\ldots, 1 $ do\n",
    "3. &emsp;&emsp;$ z \\sim N(0, I) $ if $ t > 1 $, else $ z = 0 $\n",
    "4. &emsp;&emsp;$ x_{t-1} = \\frac{1}{\\sqrt{\\alpha_t}} \\left( x_t - \\frac{1-\\alpha_t}{\\sqrt{1-\\bar{\\alpha}_t}} \\epsilon_{\\theta}(x_t, t) \\right) + \\sigma_t z $\n",
    "5. end for\n",
    "6. return $ x_0 $\n",
    "\n",
    "We will implement the forward and sampling algorithms in the NoiseScheduler class."
   ]
  },
  {
   "cell_type": "code",
   "execution_count": null,
   "metadata": {
    "id": "sH2dyLFuY344"
   },
   "outputs": [],
   "source": [
    "class NoiseScheduler:\n",
    "\n",
    "    def __init__(\n",
    "        self,\n",
    "        num_train_timesteps: int = 1000,\n",
    "        beta_start: float = 0.0001,\n",
    "        beta_end: float = 0.02,\n",
    "    ):\n",
    "        self.T = num_train_timesteps\n",
    "        self.beta_start = beta_start\n",
    "        self.beta_end = beta_end\n",
    "\n",
    "\n",
    "\n",
    "        # Create beta and alpha values\n",
    "        self.betas = torch.linspace(self.beta_start, self.beta_end, self.T)\n",
    "        self.alphas = 1.0 - self.betas\n",
    "        self.alphas_cumprod = torch.cumprod(self.alphas, dim=0)\n",
    "\n",
    "\n",
    "    def add_noise(\n",
    "        self,\n",
    "        original_samples: torch.FloatTensor,\n",
    "        noise: torch.FloatTensor,\n",
    "        timesteps: torch.IntTensor,\n",
    "    ) -> torch.FloatTensor:\n",
    "       ############\n",
    "\n",
    "        timesteps = timesteps.to(original_samples.device)\n",
    "        alphas_cumprod = self.alphas_cumprod.to(original_samples.device)\n",
    "\n",
    "        # Calculate alpha_bar for each timestep\n",
    "        alpha_bar = alphas_cumprod[timesteps].view(-1, 1, 1, 1).to(original_samples.dtype)\n",
    "        # Add noise based on alpha_bar\n",
    "        noisy_samples =  alpha_bar.sqrt() * original_samples + torch.sqrt(1- alpha_bar) * noise\n",
    "        return noisy_samples\n",
    "\n",
    "\n",
    "    def denoise(\n",
    "        self,\n",
    "        noisy_sample: torch.FloatTensor,\n",
    "        noise: torch.FloatTensor,\n",
    "        timestep: int\n",
    "    ) -> torch.FloatTensor:\n",
    "\n",
    "\n",
    "        alpha = self.alphas[timestep].view(-1, 1, 1, 1).to(noisy_sample.device)\n",
    "        beta = self.betas[timestep].view(-1, 1, 1, 1).to(noisy_sample.device)\n",
    "        alpha_bar = self.alphas_cumprod[timestep].view(-1, 1, 1, 1).to(noisy_sample.device)\n",
    "\n",
    "        # Generate noise z based on timestep\n",
    "        if timestep > 1:\n",
    "            z = torch.randn_like(noisy_sample, device=noisy_sample.device)\n",
    "        else:\n",
    "            z = torch.zeros_like(noisy_sample, device=noisy_sample.device)\n",
    "\n",
    "        # Perform denoising operation\n",
    "        x = 1 / alpha.sqrt() * (noisy_sample - (1 - alpha) / torch.sqrt(1 - alpha_bar) * noise) + beta.sqrt() * z\n",
    "        return x\n",
    "\n"
   ]
  },
  {
   "cell_type": "code",
   "execution_count": null,
   "metadata": {
    "colab": {
     "base_uri": "https://localhost:8080/",
     "height": 115
    },
    "id": "g7FrUfsNY344",
    "outputId": "77f7bb5e-2d0b-4b68-e3db-4d8777df9722"
   },
   "outputs": [
    {
     "name": "stderr",
     "output_type": "stream",
     "text": [
      "WARNING:matplotlib.image:Clipping input data to the valid range for imshow with RGB data ([0..1] for floats or [0..255] for integers).\n"
     ]
    },
    {
     "data": {
      "image/png": "[encoded data removed]",
      "text/plain": [
       "<Figure size 1600x300 with 1 Axes>"
      ]
     },
     "metadata": {},
     "output_type": "display_data"
    }
   ],
   "source": [
    "# test our NoiseScheduler\n",
    "test_scheduler = NoiseScheduler()\n",
    "time_steps = torch.tensor([100, 200, 500, 700, 900])\n",
    "sample = torch.cat([dataset[0][0].unsqueeze(0)] * time_steps.shape[0], dim=0)\n",
    "noise = torch.randn_like(sample)\n",
    "noisy_samples = test_scheduler.add_noise(sample, noise , time_steps)\n",
    "plot_images(noisy_samples)"
   ]
  },
  {
   "cell_type": "markdown",
   "metadata": {
    "id": "9I8TN40bY345"
   },
   "source": [
    "## Train and Sampling\n",
    "We'll use the DDPM class to train our diffusion model and generate samples. Complete the train and sample methods according to the provided instructions."
   ]
  },
  {
   "cell_type": "code",
   "execution_count": null,
   "metadata": {
    "id": "brQFrV-h9trP"
   },
   "outputs": [],
   "source": [
    "class DDPM:\n",
    "\n",
    "    def __init__(self, sample_size , network, optimizer, criterion, noise_shdeduler: NoiseScheduler, device, lr_scheduler=None):\n",
    "        self.sample_size = sample_size\n",
    "        self.network = network.to(device)\n",
    "        self.optimizer = optimizer\n",
    "        self.criterion = criterion\n",
    "        self.scheduler = noise_shdeduler\n",
    "        self.device = device\n",
    "        self.lr_scheduler = lr_scheduler\n",
    "\n",
    "    def train(self, dataloader, epochs, **kwargs):\n",
    "\n",
    "        history = []\n",
    "        for epoch in range(epochs):\n",
    "\n",
    "            total_loss = []\n",
    "            for i, batch in enumerate(tqdm(dataloader)):\n",
    "                batch_x, batch_y = batch\n",
    "                batch_x = batch_x.to(self.device)\n",
    "                # batch_y = batch_y.to(self.device)\n",
    "\n",
    "                # Sample a timestep t and create noisy images\n",
    "                self.optimizer.zero_grad()\n",
    "                self.network.train()\n",
    "\n",
    "                timesteps = torch.randint(low=1, high=self.scheduler.T, size=(batch_x.size(0), ), device=self.device)\n",
    "                epsilon = torch.randn_like(batch_x, device=self.device, dtype=batch_x.dtype)\n",
    "                batch_x_noisy = self.scheduler.add_noise(batch_x, epsilon, timesteps)\n",
    "                outputs = self.network(batch_x_noisy, timesteps)\n",
    "                loss = self.criterion(outputs, epsilon)\n",
    "                loss.backward()\n",
    "                self.optimizer.step()\n",
    "                if self.lr_scheduler:\n",
    "                    self.lr_scheduler.step()\n",
    "                total_loss.append(loss.item())\n",
    "\n",
    "\n",
    "            mean_loss = np.mean(total_loss)\n",
    "            lr_str = f\"[lr: {self.lr_scheduler.get_last_lr()[0]}]\" if self.lr_scheduler else ''\n",
    "            print(f\"[Epoch: {epoch+1}/{epochs}] [loss: {mean_loss:.4f}] {lr_str}\")\n",
    "            if (epoch+1) % 10 == 0:\n",
    "                self.sample(5, plot=True)\n",
    "\n",
    "            history.append(mean_loss)\n",
    "\n",
    "        return history\n",
    "\n",
    "    def sample(self, n, plot=True):\n",
    "\n",
    "        with torch.no_grad():\n",
    "            self.network.eval()\n",
    "            C, H, W = self.sample_size\n",
    "            x = torch.randn((1, C, H, W), device=self.device)\n",
    "            xs = []\n",
    "            step = self.scheduler.T // n\n",
    "            for t in tqdm(torch.arange(self.scheduler.T - 1, -1 , -1, device=self.device)):\n",
    "                noise = self.network(x, t.unsqueeze(0))\n",
    "                x = self.scheduler.denoise(x, noise, t)\n",
    "                if t % step == 0:\n",
    "                    xs.append((x.squeeze(0).clamp(-1, 1)+1)/2)\n",
    "            if plot:\n",
    "                plot_images(xs)\n",
    "            return x\n",
    "\n"
   ]
  },
  {
   "cell_type": "markdown",
   "metadata": {
    "id": "8eQAR5CfY345"
   },
   "source": [
    "To build and train our DDPM, first we must instantiate a UNet, noise scheduler, optimizer, and loss function. Then, create a DDPM object using them. To begin the training process, we should call the train method with our dataloader and the required number of epochs. It's recommended to use a learning rate scheduler with warmup steps (e.g., cosine schedule) to facilitate faster model convergence."
   ]
  },
  {
   "cell_type": "code",
   "execution_count": null,
   "metadata": {
    "id": "HLottCVPY345"
   },
   "outputs": [],
   "source": [
    "\n",
    "IMG_SIZE = (3, 64, 256)\n",
    "LR = 1e-4\n",
    "EPOCHS = 50"
   ]
  },
  {
   "cell_type": "code",
   "execution_count": null,
   "metadata": {
    "id": "SgtmMgDxY346"
   },
   "outputs": [],
   "source": [
    "from transformers import get_cosine_schedule_with_warmup"
   ]
  },
  {
   "cell_type": "code",
   "execution_count": null,
   "metadata": {
    "id": "WMV_1vmhY346"
   },
   "outputs": [],
   "source": [
    "\n",
    "model = UNet(in_ch=3, out_ch=3, temb_size=512, norm_groups=32)\n",
    "scheduler = NoiseScheduler()\n",
    "optimizer = torch.optim.AdamW(model.parameters(), lr=LR)\n",
    "criterion = F.mse_loss\n",
    "lr_scheduler = lr_scheduler = get_cosine_schedule_with_warmup(\n",
    "    optimizer=optimizer,\n",
    "    num_warmup_steps=300,\n",
    "    num_training_steps=(len(dataloader) * EPOCHS),\n",
    ")\n"
   ]
  },
  {
   "cell_type": "code",
   "execution_count": null,
   "metadata": {
    "id": "0RA-VNP57fyB",
    "scrolled": true
   },
   "outputs": [],
   "source": [
    "ddpm = DDPM(\n",
    "    sample_size=IMG_SIZE,\n",
    "    network=model,\n",
    "    optimizer=optimizer,\n",
    "    criterion=criterion,\n",
    "    noise_shdeduler=scheduler,\n",
    "    device=DEVICE,\n",
    "    lr_scheduler=lr_scheduler\n",
    ") # You can pass your arguments to the call.\n"
   ]
  },
  {
   "cell_type": "code",
   "execution_count": null,
   "metadata": {
    "id": "tZt2GxvvY346"
   },
   "outputs": [],
   "source": []
  },
  {
   "cell_type": "code",
   "execution_count": null,
   "metadata": {
    "colab": {
     "background_save": true,
     "base_uri": "https://localhost:8080/",
     "height": 402,
     "referenced_widgets": [
      "7b0e10aae72041d9a4c32c9ee95e28f1",
      "4767315dda414bc3a8c0380e13c6fd43",
      "692fd6e907f24820981b33f747786043",
      "268fb33895a1418680cdebf291eb2f34",
      "597c06026172474b8fc7c761cb7f3b83",
      "da8df6c2ce9144d1844df095ac58fa3d",
      "5dcaf231e3c84d968d6084cca5e01e39",
      "07d6b6973d14446b8ac79160d340f787",
      "a70a66c967c841d2913dca7d1fc18c97",
      "572d15d303b04111affdd18ee73d2d39",
      "ca9ec331b00c44fdab1479927bb3abc1",
      "e5ef71abe9ee4aa5b1e9222faa1d447b",
      "2b61004c7fab44d193db6c108325e405",
      "df95b84c6e59423abf8f0be673777bee",
      "1925de6d68044afdb22f63a51e6df328",
      "0853106a86cd4e6c8f07abf057e3fb2a",
      "c05725dd38214e9c8fc5405200ff76cc",
      "a955a42b04e74a5e9e79140003f5da4a",
      "cd8f19c3aee743b491096fbbd0e4935b",
      "439901939d0a41a2bf70fd5838170095",
      "68251db3e25e4cdb92b4a92766296294",
      "e855e618287346ac80d7e070b3926691",
      "220536e1ba7e4424aac8f6196545856a",
      "b44625cddc5145738e8d999b5bd78ef5",
      "27cb845f54ec450287d1c9ce43595b3d",
      "dfd4340b3736408ba01628ff11913181",
      "105740c1b85547bcba11755ac0829694",
      "6555fecb4c6d4aaa83fd9b179380566e",
      "83c3317c91bc4572949ea0005de9edf2",
      "10bf51eb7ad843c79eada08036e94d07",
      "eae31353d635489b909fda4ce5e5b9bf",
      "5ac2307f29cf48b6955e5baf55bb0478",
      "c6b5a6b02a5c46449f0278f40602b696",
      "c98b5c43e066427493e0e015741e5607",
      "82ab8e6d1bbb42489067112afdbd6098",
      "d97aae9359c04157b300eba132ec9fe3",
      "70a8d260efb1424b84eecb4f4c261be7",
      "89a748d7a2c748e1a41dfa358808c1d6",
      "4bc6b35f41ac49ae868d56ba6a89be1e",
      "5e532ce5043b4a92a15aba83e286587a",
      "78a4d6bce6c6428d90df367c4f624369",
      "891e12f018364b9ba8321a32a360017b",
      "ce89bee688744b3f947f228f6ac34ce5",
      "837e4a8c4f834d598d84f6698f8b8561",
      "6433202b296d4d01bea015e31865225b",
      "d1073d82a55649ae8da9ce2bb5dac44f",
      "86514dbdcbc646aaa885c0da4bd5b690",
      "e97d0e1910ae46c28b2e2a9215b08406",
      "96a13987665044cdad7f1bf7ab2711e2",
      "1e3a5ece6ef14d99a7fb9984708992dd",
      "60e3f6a428054f2eba9db7a2e3e1b7d5",
      "2755e71aee5745f5baa2bb0ef1275a46",
      "25c37aaec36c4baeb9ad074bf4a2281b",
      "055390feea074c15aaa6c3cb6cd5b583",
      "6a4acf291ca04f4ab1333c5bb96734f7",
      "2b3908a7ed5842a0b5c6e7797751923e",
      "cba49174b82f44fc87f2d7c84f2200da",
      "d9dac4ae0c91478297aa74c1c21b77ef",
      "e183d3960fc44c848635aca421fb96ad",
      "ae9313e607af425186e8107f3e146bf4",
      "5da9f770a78c4751b2b7c8000acbe42d",
      "3290370cf032413eb617709c5873e2ad",
      "1b3489d3dd5445a08e8d4525f8d6e609",
      "baee05b3f8dc4ede8b52c178d3275c3f",
      "fa4cb31240514aea817a153e8363c17b",
      "b26c6ea793944154a197b24a86e35449",
      "8b7b2820ad034e9c88fca22c3adaf7aa",
      "10fcd9e6860442c59a33ec26ba038890",
      "12c662bea23f4f088f1e0c80e71fe724",
      "3a2be6e8aa734a1d91d51733d0fe493d",
      "5d7da0e4e17e4f27ae96cc3c0f34aeaa",
      "347320a31af54a4d8b365d268ce359ad",
      "03244634ddc34d2498f42a987b61d23d",
      "67a3a0c19e3949819b23a9f3b690ad89",
      "5f0e8d6661264806af17ae25ad10f3f0",
      "6a433b11d79c47609e6b7d2de756ee79",
      "2ed2389a95d44a9692c28360ddec52ea",
      "ad19ba65e49a467b820f9d54ac0b7653",
      "8a9736ddd3a340d8bd58aeeeb4487b7d",
      "0c82edf6c59a40d2b7d71eb76fb8ffe1",
      "dc2862a0be7f4f4b8c70f3fef30509a4",
      "e6aed16c2626442aa72be9e9b08512d7",
      "97c6451702eb488eb8d8068e994d28d5",
      "dfdf0111a77e419ab307a65fd216da25",
      "039d08245e914ec1974f9ad1fb896adb",
      "e59b228b3c274e10a09bef843b0721aa",
      "fdf40f25f61b4f3c902dd42f5142ae04",
      "f6f847daa37f41a4aba9099eeb0c9f1e"
     ]
    },
    "id": "cpZfvdk_Y346",
    "scrolled": true,
    "outputId": "e5962fab-fa76-4d6b-fa55-da3e11bf0fff"
   },
   "outputs": [
    {
     "data": {
      "application/vnd.jupyter.widget-view+json": {
       "model_id": "7b0e10aae72041d9a4c32c9ee95e28f1",
       "version_major": 2,
       "version_minor": 0
      },
      "text/plain": [
       "  0%|          | 0/67 [00:00<?, ?it/s]"
      ]
     },
     "metadata": {},
     "output_type": "display_data"
    },
    {
     "name": "stdout",
     "output_type": "stream",
     "text": [
      "[Epoch: 1/50] [loss: 0.6652] [lr: 2.2333333333333335e-05]\n"
     ]
    },
    {
     "data": {
      "application/vnd.jupyter.widget-view+json": {
       "model_id": "e5ef71abe9ee4aa5b1e9222faa1d447b",
       "version_major": 2,
       "version_minor": 0
      },
      "text/plain": [
       "  0%|          | 0/67 [00:00<?, ?it/s]"
      ]
     },
     "metadata": {},
     "output_type": "display_data"
    },
    {
     "name": "stdout",
     "output_type": "stream",
     "text": [
      "[Epoch: 2/50] [loss: 0.1068] [lr: 4.466666666666667e-05]\n"
     ]
    },
    {
     "data": {
      "application/vnd.jupyter.widget-view+json": {
       "model_id": "220536e1ba7e4424aac8f6196545856a",
       "version_major": 2,
       "version_minor": 0
      },
      "text/plain": [
       "  0%|          | 0/67 [00:00<?, ?it/s]"
      ]
     },
     "metadata": {},
     "output_type": "display_data"
    },
    {
     "name": "stdout",
     "output_type": "stream",
     "text": [
      "[Epoch: 3/50] [loss: 0.0606] [lr: 6.7e-05]\n"
     ]
    },
    {
     "data": {
      "application/vnd.jupyter.widget-view+json": {
       "model_id": "c98b5c43e066427493e0e015741e5607",
       "version_major": 2,
       "version_minor": 0
      },
      "text/plain": [
       "  0%|          | 0/67 [00:00<?, ?it/s]"
      ]
     },
     "metadata": {},
     "output_type": "display_data"
    },
    {
     "name": "stdout",
     "output_type": "stream",
     "text": [
      "[Epoch: 4/50] [loss: 0.0422] [lr: 8.933333333333334e-05]\n"
     ]
    },
    {
     "data": {
      "application/vnd.jupyter.widget-view+json": {
       "model_id": "6433202b296d4d01bea015e31865225b",
       "version_major": 2,
       "version_minor": 0
      },
      "text/plain": [
       "  0%|          | 0/67 [00:00<?, ?it/s]"
      ]
     },
     "metadata": {},
     "output_type": "display_data"
    },
    {
     "name": "stdout",
     "output_type": "stream",
     "text": [
      "[Epoch: 5/50] [loss: 0.0314] [lr: 9.996751153992862e-05]\n"
     ]
    },
    {
     "data": {
      "application/vnd.jupyter.widget-view+json": {
       "model_id": "2b3908a7ed5842a0b5c6e7797751923e",
       "version_major": 2,
       "version_minor": 0
      },
      "text/plain": [
       "  0%|          | 0/67 [00:00<?, ?it/s]"
      ]
     },
     "metadata": {},
     "output_type": "display_data"
    },
    {
     "name": "stdout",
     "output_type": "stream",
     "text": [
      "[Epoch: 6/50] [loss: 0.0272] [lr: 9.972429737926605e-05]\n"
     ]
    },
    {
     "data": {
      "application/vnd.jupyter.widget-view+json": {
       "model_id": "8b7b2820ad034e9c88fca22c3adaf7aa",
       "version_major": 2,
       "version_minor": 0
      },
      "text/plain": [
       "  0%|          | 0/67 [00:00<?, ?it/s]"
      ]
     },
     "metadata": {},
     "output_type": "display_data"
    },
    {
     "name": "stdout",
     "output_type": "stream",
     "text": [
      "[Epoch: 7/50] [loss: 0.0242] [lr: 9.924435722181669e-05]\n"
     ]
    },
    {
     "data": {
      "application/vnd.jupyter.widget-view+json": {
       "model_id": "ad19ba65e49a467b820f9d54ac0b7653",
       "version_major": 2,
       "version_minor": 0
      },
      "text/plain": [
       "  0%|          | 0/67 [00:00<?, ?it/s]"
      ]
     },
     "metadata": {},
     "output_type": "display_data"
    }
   ],
   "source": [
    "history = ddpm.train(dataloader, EPOCHS)"
   ]
  },
  {
   "cell_type": "markdown",
   "metadata": {
    "id": "Y3adTD_xY347"
   },
   "source": [
    "Generate random samples from the trained model."
   ]
  },
  {
   "cell_type": "code",
   "execution_count": null,
   "metadata": {
    "id": "4FsYoolSY347"
   },
   "outputs": [],
   "source": [
    "s = ddpm.sample(5)"
   ]
  },
  {
   "cell_type": "code",
   "execution_count": null,
   "metadata": {
    "id": "occO7jplY347"
   },
   "outputs": [],
   "source": [
    "s = ddpm.sample(5)"
   ]
  },
  {
   "cell_type": "code",
   "execution_count": null,
   "metadata": {
    "id": "V_6K85XlY347"
   },
   "outputs": [],
   "source": [
    "s = ddpm.sample(5)"
   ]
  },
  {
   "cell_type": "code",
   "execution_count": null,
   "metadata": {
    "id": "B-ZMDhcEY348"
   },
   "outputs": [],
   "source": [
    "# plot loss history\n",
    "plt.plot(np.arange(EPOCHS), history)\n",
    "plt.xlabel('Epochs')\n",
    "plt.ylabel('Mean Loss')"
   ]
  }
 ],
 "metadata": {
  "accelerator": "GPU",
  "colab": {
   "gpuType": "T4",
   "provenance": [],
   "toc_visible": true
  },
  "kernelspec": {
   "display_name": "Python 3 (ipykernel)",
   "language": "python",
   "name": "python3"
  },
  "language_info": {
   "codemirror_mode": {
    "name": "ipython",
    "version": 3
   },
   "file_extension": ".py",
   "mimetype": "text/x-python",
   "name": "python",
   "nbconvert_exporter": "python",
   "pygments_lexer": "ipython3",
   "version": "3.12.3"
  },
  "widgets": {
   "application/vnd.jupyter.widget-state+json": {
    "03244634ddc34d2498f42a987b61d23d": {
     "model_module": "@jupyter-widgets/controls",
     "model_module_version": "1.5.0",
     "model_name": "DescriptionStyleModel",
     "state": {
      "_model_module": "@jupyter-widgets/controls",
      "_model_module_version": "1.5.0",
      "_model_name": "DescriptionStyleModel",
      "_view_count": null,
      "_view_module": "@jupyter-widgets/base",
      "_view_module_version": "1.2.0",
      "_view_name": "StyleView",
      "description_width": ""
     }
    },
    "039d08245e914ec1974f9ad1fb896adb": {
     "model_module": "@jupyter-widgets/base",
     "model_module_version": "1.2.0",
     "model_name": "LayoutModel",
     "state": {
      "_model_module": "@jupyter-widgets/base",
      "_model_module_version": "1.2.0",
      "_model_name": "LayoutModel",
      "_view_count": null,
      "_view_module": "@jupyter-widgets/base",
      "_view_module_version": "1.2.0",
      "_view_name": "LayoutView",
      "align_content": null,
      "align_items": null,
      "align_self": null,
      "border": null,
      "bottom": null,
      "display": null,
      "flex": null,
      "flex_flow": null,
      "grid_area": null,
      "grid_auto_columns": null,
      "grid_auto_flow": null,
      "grid_auto_rows": null,
      "grid_column": null,
      "grid_gap": null,
      "grid_row": null,
      "grid_template_areas": null,
      "grid_template_columns": null,
      "grid_template_rows": null,
      "height": null,
      "justify_content": null,
      "justify_items": null,
      "left": null,
      "margin": null,
      "max_height": null,
      "max_width": null,
      "min_height": null,
      "min_width": null,
      "object_fit": null,
      "object_position": null,
      "order": null,
      "overflow": null,
      "overflow_x": null,
      "overflow_y": null,
      "padding": null,
      "right": null,
      "top": null,
      "visibility": null,
      "width": null
     }
    },
    "055390feea074c15aaa6c3cb6cd5b583": {
     "model_module": "@jupyter-widgets/base",
     "model_module_version": "1.2.0",
     "model_name": "LayoutModel",
     "state": {
      "_model_module": "@jupyter-widgets/base",
      "_model_module_version": "1.2.0",
      "_model_name": "LayoutModel",
      "_view_count": null,
      "_view_module": "@jupyter-widgets/base",
      "_view_module_version": "1.2.0",
      "_view_name": "LayoutView",
      "align_content": null,
      "align_items": null,
      "align_self": null,
      "border": null,
      "bottom": null,
      "display": null,
      "flex": null,
      "flex_flow": null,
      "grid_area": null,
      "grid_auto_columns": null,
      "grid_auto_flow": null,
      "grid_auto_rows": null,
      "grid_column": null,
      "grid_gap": null,
      "grid_row": null,
      "grid_template_areas": null,
      "grid_template_columns": null,
      "grid_template_rows": null,
      "height": null,
      "justify_content": null,
      "justify_items": null,
      "left": null,
      "margin": null,
      "max_height": null,
      "max_width": null,
      "min_height": null,
      "min_width": null,
      "object_fit": null,
      "object_position": null,
      "order": null,
      "overflow": null,
      "overflow_x": null,
      "overflow_y": null,
      "padding": null,
      "right": null,
      "top": null,
      "visibility": null,
      "width": null
     }
    },
    "07d6b6973d14446b8ac79160d340f787": {
     "model_module": "@jupyter-widgets/base",
     "model_module_version": "1.2.0",
     "model_name": "LayoutModel",
     "state": {
      "_model_module": "@jupyter-widgets/base",
      "_model_module_version": "1.2.0",
      "_model_name": "LayoutModel",
      "_view_count": null,
      "_view_module": "@jupyter-widgets/base",
      "_view_module_version": "1.2.0",
      "_view_name": "LayoutView",
      "align_content": null,
      "align_items": null,
      "align_self": null,
      "border": null,
      "bottom": null,
      "display": null,
      "flex": null,
      "flex_flow": null,
      "grid_area": null,
      "grid_auto_columns": null,
      "grid_auto_flow": null,
      "grid_auto_rows": null,
      "grid_column": null,
      "grid_gap": null,
      "grid_row": null,
      "grid_template_areas": null,
      "grid_template_columns": null,
      "grid_template_rows": null,
      "height": null,
      "justify_content": null,
      "justify_items": null,
      "left": null,
      "margin": null,
      "max_height": null,
      "max_width": null,
      "min_height": null,
      "min_width": null,
      "object_fit": null,
      "object_position": null,
      "order": null,
      "overflow": null,
      "overflow_x": null,
      "overflow_y": null,
      "padding": null,
      "right": null,
      "top": null,
      "visibility": null,
      "width": null
     }
    },
    "0853106a86cd4e6c8f07abf057e3fb2a": {
     "model_module": "@jupyter-widgets/base",
     "model_module_version": "1.2.0",
     "model_name": "LayoutModel",
     "state": {
      "_model_module": "@jupyter-widgets/base",
      "_model_module_version": "1.2.0",
      "_model_name": "LayoutModel",
      "_view_count": null,
      "_view_module": "@jupyter-widgets/base",
      "_view_module_version": "1.2.0",
      "_view_name": "LayoutView",
      "align_content": null,
      "align_items": null,
      "align_self": null,
      "border": null,
      "bottom": null,
      "display": null,
      "flex": null,
      "flex_flow": null,
      "grid_area": null,
      "grid_auto_columns": null,
      "grid_auto_flow": null,
      "grid_auto_rows": null,
      "grid_column": null,
      "grid_gap": null,
      "grid_row": null,
      "grid_template_areas": null,
      "grid_template_columns": null,
      "grid_template_rows": null,
      "height": null,
      "justify_content": null,
      "justify_items": null,
      "left": null,
      "margin": null,
      "max_height": null,
      "max_width": null,
      "min_height": null,
      "min_width": null,
      "object_fit": null,
      "object_position": null,
      "order": null,
      "overflow": null,
      "overflow_x": null,
      "overflow_y": null,
      "padding": null,
      "right": null,
      "top": null,
      "visibility": null,
      "width": null
     }
    },
    "0c82edf6c59a40d2b7d71eb76fb8ffe1": {
     "model_module": "@jupyter-widgets/controls",
     "model_module_version": "1.5.0",
     "model_name": "FloatProgressModel",
     "state": {
      "_dom_classes": [],
      "_model_module": "@jupyter-widgets/controls",
      "_model_module_version": "1.5.0",
      "_model_name": "FloatProgressModel",
      "_view_count": null,
      "_view_module": "@jupyter-widgets/controls",
      "_view_module_version": "1.5.0",
      "_view_name": "ProgressView",
      "bar_style": "",
      "description": "",
      "description_tooltip": null,
      "layout": "IPY_MODEL_039d08245e914ec1974f9ad1fb896adb",
      "max": 67,
      "min": 0,
      "orientation": "horizontal",
      "style": "IPY_MODEL_e59b228b3c274e10a09bef843b0721aa",
      "value": 1
     }
    },
    "105740c1b85547bcba11755ac0829694": {
     "model_module": "@jupyter-widgets/base",
     "model_module_version": "1.2.0",
     "model_name": "LayoutModel",
     "state": {
      "_model_module": "@jupyter-widgets/base",
      "_model_module_version": "1.2.0",
      "_model_name": "LayoutModel",
      "_view_count": null,
      "_view_module": "@jupyter-widgets/base",
      "_view_module_version": "1.2.0",
      "_view_name": "LayoutView",
      "align_content": null,
      "align_items": null,
      "align_self": null,
      "border": null,
      "bottom": null,
      "display": null,
      "flex": null,
      "flex_flow": null,
      "grid_area": null,
      "grid_auto_columns": null,
      "grid_auto_flow": null,
      "grid_auto_rows": null,
      "grid_column": null,
      "grid_gap": null,
      "grid_row": null,
      "grid_template_areas": null,
      "grid_template_columns": null,
      "grid_template_rows": null,
      "height": null,
      "justify_content": null,
      "justify_items": null,
      "left": null,
      "margin": null,
      "max_height": null,
      "max_width": null,
      "min_height": null,
      "min_width": null,
      "object_fit": null,
      "object_position": null,
      "order": null,
      "overflow": null,
      "overflow_x": null,
      "overflow_y": null,
      "padding": null,
      "right": null,
      "top": null,
      "visibility": null,
      "width": null
     }
    },
    "10bf51eb7ad843c79eada08036e94d07": {
     "model_module": "@jupyter-widgets/base",
     "model_module_version": "1.2.0",
     "model_name": "LayoutModel",
     "state": {
      "_model_module": "@jupyter-widgets/base",
      "_model_module_version": "1.2.0",
      "_model_name": "LayoutModel",
      "_view_count": null,
      "_view_module": "@jupyter-widgets/base",
      "_view_module_version": "1.2.0",
      "_view_name": "LayoutView",
      "align_content": null,
      "align_items": null,
      "align_self": null,
      "border": null,
      "bottom": null,
      "display": null,
      "flex": null,
      "flex_flow": null,
      "grid_area": null,
      "grid_auto_columns": null,
      "grid_auto_flow": null,
      "grid_auto_rows": null,
      "grid_column": null,
      "grid_gap": null,
      "grid_row": null,
      "grid_template_areas": null,
      "grid_template_columns": null,
      "grid_template_rows": null,
      "height": null,
      "justify_content": null,
      "justify_items": null,
      "left": null,
      "margin": null,
      "max_height": null,
      "max_width": null,
      "min_height": null,
      "min_width": null,
      "object_fit": null,
      "object_position": null,
      "order": null,
      "overflow": null,
      "overflow_x": null,
      "overflow_y": null,
      "padding": null,
      "right": null,
      "top": null,
      "visibility": null,
      "width": null
     }
    },
    "10fcd9e6860442c59a33ec26ba038890": {
     "model_module": "@jupyter-widgets/controls",
     "model_module_version": "1.5.0",
     "model_name": "HTMLModel",
     "state": {
      "_dom_classes": [],
      "_model_module": "@jupyter-widgets/controls",
      "_model_module_version": "1.5.0",
      "_model_name": "HTMLModel",
      "_view_count": null,
      "_view_module": "@jupyter-widgets/controls",
      "_view_module_version": "1.5.0",
      "_view_name": "HTMLView",
      "description": "",
      "description_tooltip": null,
      "layout": "IPY_MODEL_347320a31af54a4d8b365d268ce359ad",
      "placeholder": "​",
      "style": "IPY_MODEL_03244634ddc34d2498f42a987b61d23d",
      "value": "100%"
     }
    },
    "12c662bea23f4f088f1e0c80e71fe724": {
     "model_module": "@jupyter-widgets/controls",
     "model_module_version": "1.5.0",
     "model_name": "FloatProgressModel",
     "state": {
      "_dom_classes": [],
      "_model_module": "@jupyter-widgets/controls",
      "_model_module_version": "1.5.0",
      "_model_name": "FloatProgressModel",
      "_view_count": null,
      "_view_module": "@jupyter-widgets/controls",
      "_view_module_version": "1.5.0",
      "_view_name": "ProgressView",
      "bar_style": "success",
      "description": "",
      "description_tooltip": null,
      "layout": "IPY_MODEL_67a3a0c19e3949819b23a9f3b690ad89",
      "max": 67,
      "min": 0,
      "orientation": "horizontal",
      "style": "IPY_MODEL_5f0e8d6661264806af17ae25ad10f3f0",
      "value": 67
     }
    },
    "1925de6d68044afdb22f63a51e6df328": {
     "model_module": "@jupyter-widgets/controls",
     "model_module_version": "1.5.0",
     "model_name": "HTMLModel",
     "state": {
      "_dom_classes": [],
      "_model_module": "@jupyter-widgets/controls",
      "_model_module_version": "1.5.0",
      "_model_name": "HTMLModel",
      "_view_count": null,
      "_view_module": "@jupyter-widgets/controls",
      "_view_module_version": "1.5.0",
      "_view_name": "HTMLView",
      "description": "",
      "description_tooltip": null,
      "layout": "IPY_MODEL_68251db3e25e4cdb92b4a92766296294",
      "placeholder": "​",
      "style": "IPY_MODEL_e855e618287346ac80d7e070b3926691",
      "value": " 67/67 [01:24&lt;00:00,  1.21s/it]"
     }
    },
    "1b3489d3dd5445a08e8d4525f8d6e609": {
     "model_module": "@jupyter-widgets/base",
     "model_module_version": "1.2.0",
     "model_name": "LayoutModel",
     "state": {
      "_model_module": "@jupyter-widgets/base",
      "_model_module_version": "1.2.0",
      "_model_name": "LayoutModel",
      "_view_count": null,
      "_view_module": "@jupyter-widgets/base",
      "_view_module_version": "1.2.0",
      "_view_name": "LayoutView",
      "align_content": null,
      "align_items": null,
      "align_self": null,
      "border": null,
      "bottom": null,
      "display": null,
      "flex": null,
      "flex_flow": null,
      "grid_area": null,
      "grid_auto_columns": null,
      "grid_auto_flow": null,
      "grid_auto_rows": null,
      "grid_column": null,
      "grid_gap": null,
      "grid_row": null,
      "grid_template_areas": null,
      "grid_template_columns": null,
      "grid_template_rows": null,
      "height": null,
      "justify_content": null,
      "justify_items": null,
      "left": null,
      "margin": null,
      "max_height": null,
      "max_width": null,
      "min_height": null,
      "min_width": null,
      "object_fit": null,
      "object_position": null,
      "order": null,
      "overflow": null,
      "overflow_x": null,
      "overflow_y": null,
      "padding": null,
      "right": null,
      "top": null,
      "visibility": null,
      "width": null
     }
    },
    "1e3a5ece6ef14d99a7fb9984708992dd": {
     "model_module": "@jupyter-widgets/base",
     "model_module_version": "1.2.0",
     "model_name": "LayoutModel",
     "state": {
      "_model_module": "@jupyter-widgets/base",
      "_model_module_version": "1.2.0",
      "_model_name": "LayoutModel",
      "_view_count": null,
      "_view_module": "@jupyter-widgets/base",
      "_view_module_version": "1.2.0",
      "_view_name": "LayoutView",
      "align_content": null,
      "align_items": null,
      "align_self": null,
      "border": null,
      "bottom": null,
      "display": null,
      "flex": null,
      "flex_flow": null,
      "grid_area": null,
      "grid_auto_columns": null,
      "grid_auto_flow": null,
      "grid_auto_rows": null,
      "grid_column": null,
      "grid_gap": null,
      "grid_row": null,
      "grid_template_areas": null,
      "grid_template_columns": null,
      "grid_template_rows": null,
      "height": null,
      "justify_content": null,
      "justify_items": null,
      "left": null,
      "margin": null,
      "max_height": null,
      "max_width": null,
      "min_height": null,
      "min_width": null,
      "object_fit": null,
      "object_position": null,
      "order": null,
      "overflow": null,
      "overflow_x": null,
      "overflow_y": null,
      "padding": null,
      "right": null,
      "top": null,
      "visibility": null,
      "width": null
     }
    },
    "220536e1ba7e4424aac8f6196545856a": {
     "model_module": "@jupyter-widgets/controls",
     "model_module_version": "1.5.0",
     "model_name": "HBoxModel",
     "state": {
      "_dom_classes": [],
      "_model_module": "@jupyter-widgets/controls",
      "_model_module_version": "1.5.0",
      "_model_name": "HBoxModel",
      "_view_count": null,
      "_view_module": "@jupyter-widgets/controls",
      "_view_module_version": "1.5.0",
      "_view_name": "HBoxView",
      "box_style": "",
      "children": [
       "IPY_MODEL_b44625cddc5145738e8d999b5bd78ef5",
       "IPY_MODEL_27cb845f54ec450287d1c9ce43595b3d",
       "IPY_MODEL_dfd4340b3736408ba01628ff11913181"
      ],
      "layout": "IPY_MODEL_105740c1b85547bcba11755ac0829694"
     }
    },
    "25c37aaec36c4baeb9ad074bf4a2281b": {
     "model_module": "@jupyter-widgets/controls",
     "model_module_version": "1.5.0",
     "model_name": "ProgressStyleModel",
     "state": {
      "_model_module": "@jupyter-widgets/controls",
      "_model_module_version": "1.5.0",
      "_model_name": "ProgressStyleModel",
      "_view_count": null,
      "_view_module": "@jupyter-widgets/base",
      "_view_module_version": "1.2.0",
      "_view_name": "StyleView",
      "bar_color": null,
      "description_width": ""
     }
    },
    "268fb33895a1418680cdebf291eb2f34": {
     "model_module": "@jupyter-widgets/controls",
     "model_module_version": "1.5.0",
     "model_name": "HTMLModel",
     "state": {
      "_dom_classes": [],
      "_model_module": "@jupyter-widgets/controls",
      "_model_module_version": "1.5.0",
      "_model_name": "HTMLModel",
      "_view_count": null,
      "_view_module": "@jupyter-widgets/controls",
      "_view_module_version": "1.5.0",
      "_view_name": "HTMLView",
      "description": "",
      "description_tooltip": null,
      "layout": "IPY_MODEL_572d15d303b04111affdd18ee73d2d39",
      "placeholder": "​",
      "style": "IPY_MODEL_ca9ec331b00c44fdab1479927bb3abc1",
      "value": " 67/67 [01:20&lt;00:00,  1.30s/it]"
     }
    },
    "2755e71aee5745f5baa2bb0ef1275a46": {
     "model_module": "@jupyter-widgets/base",
     "model_module_version": "1.2.0",
     "model_name": "LayoutModel",
     "state": {
      "_model_module": "@jupyter-widgets/base",
      "_model_module_version": "1.2.0",
      "_model_name": "LayoutModel",
      "_view_count": null,
      "_view_module": "@jupyter-widgets/base",
      "_view_module_version": "1.2.0",
      "_view_name": "LayoutView",
      "align_content": null,
      "align_items": null,
      "align_self": null,
      "border": null,
      "bottom": null,
      "display": null,
      "flex": null,
      "flex_flow": null,
      "grid_area": null,
      "grid_auto_columns": null,
      "grid_auto_flow": null,
      "grid_auto_rows": null,
      "grid_column": null,
      "grid_gap": null,
      "grid_row": null,
      "grid_template_areas": null,
      "grid_template_columns": null,
      "grid_template_rows": null,
      "height": null,
      "justify_content": null,
      "justify_items": null,
      "left": null,
      "margin": null,
      "max_height": null,
      "max_width": null,
      "min_height": null,
      "min_width": null,
      "object_fit": null,
      "object_position": null,
      "order": null,
      "overflow": null,
      "overflow_x": null,
      "overflow_y": null,
      "padding": null,
      "right": null,
      "top": null,
      "visibility": null,
      "width": null
     }
    },
    "27cb845f54ec450287d1c9ce43595b3d": {
     "model_module": "@jupyter-widgets/controls",
     "model_module_version": "1.5.0",
     "model_name": "FloatProgressModel",
     "state": {
      "_dom_classes": [],
      "_model_module": "@jupyter-widgets/controls",
      "_model_module_version": "1.5.0",
      "_model_name": "FloatProgressModel",
      "_view_count": null,
      "_view_module": "@jupyter-widgets/controls",
      "_view_module_version": "1.5.0",
      "_view_name": "ProgressView",
      "bar_style": "success",
      "description": "",
      "description_tooltip": null,
      "layout": "IPY_MODEL_10bf51eb7ad843c79eada08036e94d07",
      "max": 67,
      "min": 0,
      "orientation": "horizontal",
      "style": "IPY_MODEL_eae31353d635489b909fda4ce5e5b9bf",
      "value": 67
     }
    },
    "2b3908a7ed5842a0b5c6e7797751923e": {
     "model_module": "@jupyter-widgets/controls",
     "model_module_version": "1.5.0",
     "model_name": "HBoxModel",
     "state": {
      "_dom_classes": [],
      "_model_module": "@jupyter-widgets/controls",
      "_model_module_version": "1.5.0",
      "_model_name": "HBoxModel",
      "_view_count": null,
      "_view_module": "@jupyter-widgets/controls",
      "_view_module_version": "1.5.0",
      "_view_name": "HBoxView",
      "box_style": "",
      "children": [
       "IPY_MODEL_cba49174b82f44fc87f2d7c84f2200da",
       "IPY_MODEL_d9dac4ae0c91478297aa74c1c21b77ef",
       "IPY_MODEL_e183d3960fc44c848635aca421fb96ad"
      ],
      "layout": "IPY_MODEL_ae9313e607af425186e8107f3e146bf4"
     }
    },
    "2b61004c7fab44d193db6c108325e405": {
     "model_module": "@jupyter-widgets/controls",
     "model_module_version": "1.5.0",
     "model_name": "HTMLModel",
     "state": {
      "_dom_classes": [],
      "_model_module": "@jupyter-widgets/controls",
      "_model_module_version": "1.5.0",
      "_model_name": "HTMLModel",
      "_view_count": null,
      "_view_module": "@jupyter-widgets/controls",
      "_view_module_version": "1.5.0",
      "_view_name": "HTMLView",
      "description": "",
      "description_tooltip": null,
      "layout": "IPY_MODEL_c05725dd38214e9c8fc5405200ff76cc",
      "placeholder": "​",
      "style": "IPY_MODEL_a955a42b04e74a5e9e79140003f5da4a",
      "value": "100%"
     }
    },
    "2ed2389a95d44a9692c28360ddec52ea": {
     "model_module": "@jupyter-widgets/controls",
     "model_module_version": "1.5.0",
     "model_name": "DescriptionStyleModel",
     "state": {
      "_model_module": "@jupyter-widgets/controls",
      "_model_module_version": "1.5.0",
      "_model_name": "DescriptionStyleModel",
      "_view_count": null,
      "_view_module": "@jupyter-widgets/base",
      "_view_module_version": "1.2.0",
      "_view_name": "StyleView",
      "description_width": ""
     }
    },
    "3290370cf032413eb617709c5873e2ad": {
     "model_module": "@jupyter-widgets/controls",
     "model_module_version": "1.5.0",
     "model_name": "DescriptionStyleModel",
     "state": {
      "_model_module": "@jupyter-widgets/controls",
      "_model_module_version": "1.5.0",
      "_model_name": "DescriptionStyleModel",
      "_view_count": null,
      "_view_module": "@jupyter-widgets/base",
      "_view_module_version": "1.2.0",
      "_view_name": "StyleView",
      "description_width": ""
     }
    },
    "347320a31af54a4d8b365d268ce359ad": {
     "model_module": "@jupyter-widgets/base",
     "model_module_version": "1.2.0",
     "model_name": "LayoutModel",
     "state": {
      "_model_module": "@jupyter-widgets/base",
      "_model_module_version": "1.2.0",
      "_model_name": "LayoutModel",
      "_view_count": null,
      "_view_module": "@jupyter-widgets/base",
      "_view_module_version": "1.2.0",
      "_view_name": "LayoutView",
      "align_content": null,
      "align_items": null,
      "align_self": null,
      "border": null,
      "bottom": null,
      "display": null,
      "flex": null,
      "flex_flow": null,
      "grid_area": null,
      "grid_auto_columns": null,
      "grid_auto_flow": null,
      "grid_auto_rows": null,
      "grid_column": null,
      "grid_gap": null,
      "grid_row": null,
      "grid_template_areas": null,
      "grid_template_columns": null,
      "grid_template_rows": null,
      "height": null,
      "justify_content": null,
      "justify_items": null,
      "left": null,
      "margin": null,
      "max_height": null,
      "max_width": null,
      "min_height": null,
      "min_width": null,
      "object_fit": null,
      "object_position": null,
      "order": null,
      "overflow": null,
      "overflow_x": null,
      "overflow_y": null,
      "padding": null,
      "right": null,
      "top": null,
      "visibility": null,
      "width": null
     }
    },
    "3a2be6e8aa734a1d91d51733d0fe493d": {
     "model_module": "@jupyter-widgets/controls",
     "model_module_version": "1.5.0",
     "model_name": "HTMLModel",
     "state": {
      "_dom_classes": [],
      "_model_module": "@jupyter-widgets/controls",
      "_model_module_version": "1.5.0",
      "_model_name": "HTMLModel",
      "_view_count": null,
      "_view_module": "@jupyter-widgets/controls",
      "_view_module_version": "1.5.0",
      "_view_name": "HTMLView",
      "description": "",
      "description_tooltip": null,
      "layout": "IPY_MODEL_6a433b11d79c47609e6b7d2de756ee79",
      "placeholder": "​",
      "style": "IPY_MODEL_2ed2389a95d44a9692c28360ddec52ea",
      "value": " 67/67 [01:25&lt;00:00,  1.23s/it]"
     }
    },
    "439901939d0a41a2bf70fd5838170095": {
     "model_module": "@jupyter-widgets/controls",
     "model_module_version": "1.5.0",
     "model_name": "ProgressStyleModel",
     "state": {
      "_model_module": "@jupyter-widgets/controls",
      "_model_module_version": "1.5.0",
      "_model_name": "ProgressStyleModel",
      "_view_count": null,
      "_view_module": "@jupyter-widgets/base",
      "_view_module_version": "1.2.0",
      "_view_name": "StyleView",
      "bar_color": null,
      "description_width": ""
     }
    },
    "4767315dda414bc3a8c0380e13c6fd43": {
     "model_module": "@jupyter-widgets/controls",
     "model_module_version": "1.5.0",
     "model_name": "HTMLModel",
     "state": {
      "_dom_classes": [],
      "_model_module": "@jupyter-widgets/controls",
      "_model_module_version": "1.5.0",
      "_model_name": "HTMLModel",
      "_view_count": null,
      "_view_module": "@jupyter-widgets/controls",
      "_view_module_version": "1.5.0",
      "_view_name": "HTMLView",
      "description": "",
      "description_tooltip": null,
      "layout": "IPY_MODEL_da8df6c2ce9144d1844df095ac58fa3d",
      "placeholder": "​",
      "style": "IPY_MODEL_5dcaf231e3c84d968d6084cca5e01e39",
      "value": "100%"
     }
    },
    "4bc6b35f41ac49ae868d56ba6a89be1e": {
     "model_module": "@jupyter-widgets/base",
     "model_module_version": "1.2.0",
     "model_name": "LayoutModel",
     "state": {
      "_model_module": "@jupyter-widgets/base",
      "_model_module_version": "1.2.0",
      "_model_name": "LayoutModel",
      "_view_count": null,
      "_view_module": "@jupyter-widgets/base",
      "_view_module_version": "1.2.0",
      "_view_name": "LayoutView",
      "align_content": null,
      "align_items": null,
      "align_self": null,
      "border": null,
      "bottom": null,
      "display": null,
      "flex": null,
      "flex_flow": null,
      "grid_area": null,
      "grid_auto_columns": null,
      "grid_auto_flow": null,
      "grid_auto_rows": null,
      "grid_column": null,
      "grid_gap": null,
      "grid_row": null,
      "grid_template_areas": null,
      "grid_template_columns": null,
      "grid_template_rows": null,
      "height": null,
      "justify_content": null,
      "justify_items": null,
      "left": null,
      "margin": null,
      "max_height": null,
      "max_width": null,
      "min_height": null,
      "min_width": null,
      "object_fit": null,
      "object_position": null,
      "order": null,
      "overflow": null,
      "overflow_x": null,
      "overflow_y": null,
      "padding": null,
      "right": null,
      "top": null,
      "visibility": null,
      "width": null
     }
    },
    "572d15d303b04111affdd18ee73d2d39": {
     "model_module": "@jupyter-widgets/base",
     "model_module_version": "1.2.0",
     "model_name": "LayoutModel",
     "state": {
      "_model_module": "@jupyter-widgets/base",
      "_model_module_version": "1.2.0",
      "_model_name": "LayoutModel",
      "_view_count": null,
      "_view_module": "@jupyter-widgets/base",
      "_view_module_version": "1.2.0",
      "_view_name": "LayoutView",
      "align_content": null,
      "align_items": null,
      "align_self": null,
      "border": null,
      "bottom": null,
      "display": null,
      "flex": null,
      "flex_flow": null,
      "grid_area": null,
      "grid_auto_columns": null,
      "grid_auto_flow": null,
      "grid_auto_rows": null,
      "grid_column": null,
      "grid_gap": null,
      "grid_row": null,
      "grid_template_areas": null,
      "grid_template_columns": null,
      "grid_template_rows": null,
      "height": null,
      "justify_content": null,
      "justify_items": null,
      "left": null,
      "margin": null,
      "max_height": null,
      "max_width": null,
      "min_height": null,
      "min_width": null,
      "object_fit": null,
      "object_position": null,
      "order": null,
      "overflow": null,
      "overflow_x": null,
      "overflow_y": null,
      "padding": null,
      "right": null,
      "top": null,
      "visibility": null,
      "width": null
     }
    },
    "597c06026172474b8fc7c761cb7f3b83": {
     "model_module": "@jupyter-widgets/base",
     "model_module_version": "1.2.0",
     "model_name": "LayoutModel",
     "state": {
      "_model_module": "@jupyter-widgets/base",
      "_model_module_version": "1.2.0",
      "_model_name": "LayoutModel",
      "_view_count": null,
      "_view_module": "@jupyter-widgets/base",
      "_view_module_version": "1.2.0",
      "_view_name": "LayoutView",
      "align_content": null,
      "align_items": null,
      "align_self": null,
      "border": null,
      "bottom": null,
      "display": null,
      "flex": null,
      "flex_flow": null,
      "grid_area": null,
      "grid_auto_columns": null,
      "grid_auto_flow": null,
      "grid_auto_rows": null,
      "grid_column": null,
      "grid_gap": null,
      "grid_row": null,
      "grid_template_areas": null,
      "grid_template_columns": null,
      "grid_template_rows": null,
      "height": null,
      "justify_content": null,
      "justify_items": null,
      "left": null,
      "margin": null,
      "max_height": null,
      "max_width": null,
      "min_height": null,
      "min_width": null,
      "object_fit": null,
      "object_position": null,
      "order": null,
      "overflow": null,
      "overflow_x": null,
      "overflow_y": null,
      "padding": null,
      "right": null,
      "top": null,
      "visibility": null,
      "width": null
     }
    },
    "5ac2307f29cf48b6955e5baf55bb0478": {
     "model_module": "@jupyter-widgets/base",
     "model_module_version": "1.2.0",
     "model_name": "LayoutModel",
     "state": {
      "_model_module": "@jupyter-widgets/base",
      "_model_module_version": "1.2.0",
      "_model_name": "LayoutModel",
      "_view_count": null,
      "_view_module": "@jupyter-widgets/base",
      "_view_module_version": "1.2.0",
      "_view_name": "LayoutView",
      "align_content": null,
      "align_items": null,
      "align_self": null,
      "border": null,
      "bottom": null,
      "display": null,
      "flex": null,
      "flex_flow": null,
      "grid_area": null,
      "grid_auto_columns": null,
      "grid_auto_flow": null,
      "grid_auto_rows": null,
      "grid_column": null,
      "grid_gap": null,
      "grid_row": null,
      "grid_template_areas": null,
      "grid_template_columns": null,
      "grid_template_rows": null,
      "height": null,
      "justify_content": null,
      "justify_items": null,
      "left": null,
      "margin": null,
      "max_height": null,
      "max_width": null,
      "min_height": null,
      "min_width": null,
      "object_fit": null,
      "object_position": null,
      "order": null,
      "overflow": null,
      "overflow_x": null,
      "overflow_y": null,
      "padding": null,
      "right": null,
      "top": null,
      "visibility": null,
      "width": null
     }
    },
    "5d7da0e4e17e4f27ae96cc3c0f34aeaa": {
     "model_module": "@jupyter-widgets/base",
     "model_module_version": "1.2.0",
     "model_name": "LayoutModel",
     "state": {
      "_model_module": "@jupyter-widgets/base",
      "_model_module_version": "1.2.0",
      "_model_name": "LayoutModel",
      "_view_count": null,
      "_view_module": "@jupyter-widgets/base",
      "_view_module_version": "1.2.0",
      "_view_name": "LayoutView",
      "align_content": null,
      "align_items": null,
      "align_self": null,
      "border": null,
      "bottom": null,
      "display": null,
      "flex": null,
      "flex_flow": null,
      "grid_area": null,
      "grid_auto_columns": null,
      "grid_auto_flow": null,
      "grid_auto_rows": null,
      "grid_column": null,
      "grid_gap": null,
      "grid_row": null,
      "grid_template_areas": null,
      "grid_template_columns": null,
      "grid_template_rows": null,
      "height": null,
      "justify_content": null,
      "justify_items": null,
      "left": null,
      "margin": null,
      "max_height": null,
      "max_width": null,
      "min_height": null,
      "min_width": null,
      "object_fit": null,
      "object_position": null,
      "order": null,
      "overflow": null,
      "overflow_x": null,
      "overflow_y": null,
      "padding": null,
      "right": null,
      "top": null,
      "visibility": null,
      "width": null
     }
    },
    "5da9f770a78c4751b2b7c8000acbe42d": {
     "model_module": "@jupyter-widgets/base",
     "model_module_version": "1.2.0",
     "model_name": "LayoutModel",
     "state": {
      "_model_module": "@jupyter-widgets/base",
      "_model_module_version": "1.2.0",
      "_model_name": "LayoutModel",
      "_view_count": null,
      "_view_module": "@jupyter-widgets/base",
      "_view_module_version": "1.2.0",
      "_view_name": "LayoutView",
      "align_content": null,
      "align_items": null,
      "align_self": null,
      "border": null,
      "bottom": null,
      "display": null,
      "flex": null,
      "flex_flow": null,
      "grid_area": null,
      "grid_auto_columns": null,
      "grid_auto_flow": null,
      "grid_auto_rows": null,
      "grid_column": null,
      "grid_gap": null,
      "grid_row": null,
      "grid_template_areas": null,
      "grid_template_columns": null,
      "grid_template_rows": null,
      "height": null,
      "justify_content": null,
      "justify_items": null,
      "left": null,
      "margin": null,
      "max_height": null,
      "max_width": null,
      "min_height": null,
      "min_width": null,
      "object_fit": null,
      "object_position": null,
      "order": null,
      "overflow": null,
      "overflow_x": null,
      "overflow_y": null,
      "padding": null,
      "right": null,
      "top": null,
      "visibility": null,
      "width": null
     }
    },
    "5dcaf231e3c84d968d6084cca5e01e39": {
     "model_module": "@jupyter-widgets/controls",
     "model_module_version": "1.5.0",
     "model_name": "DescriptionStyleModel",
     "state": {
      "_model_module": "@jupyter-widgets/controls",
      "_model_module_version": "1.5.0",
      "_model_name": "DescriptionStyleModel",
      "_view_count": null,
      "_view_module": "@jupyter-widgets/base",
      "_view_module_version": "1.2.0",
      "_view_name": "StyleView",
      "description_width": ""
     }
    },
    "5e532ce5043b4a92a15aba83e286587a": {
     "model_module": "@jupyter-widgets/controls",
     "model_module_version": "1.5.0",
     "model_name": "DescriptionStyleModel",
     "state": {
      "_model_module": "@jupyter-widgets/controls",
      "_model_module_version": "1.5.0",
      "_model_name": "DescriptionStyleModel",
      "_view_count": null,
      "_view_module": "@jupyter-widgets/base",
      "_view_module_version": "1.2.0",
      "_view_name": "StyleView",
      "description_width": ""
     }
    },
    "5f0e8d6661264806af17ae25ad10f3f0": {
     "model_module": "@jupyter-widgets/controls",
     "model_module_version": "1.5.0",
     "model_name": "ProgressStyleModel",
     "state": {
      "_model_module": "@jupyter-widgets/controls",
      "_model_module_version": "1.5.0",
      "_model_name": "ProgressStyleModel",
      "_view_count": null,
      "_view_module": "@jupyter-widgets/base",
      "_view_module_version": "1.2.0",
      "_view_name": "StyleView",
      "bar_color": null,
      "description_width": ""
     }
    },
    "60e3f6a428054f2eba9db7a2e3e1b7d5": {
     "model_module": "@jupyter-widgets/controls",
     "model_module_version": "1.5.0",
     "model_name": "DescriptionStyleModel",
     "state": {
      "_model_module": "@jupyter-widgets/controls",
      "_model_module_version": "1.5.0",
      "_model_name": "DescriptionStyleModel",
      "_view_count": null,
      "_view_module": "@jupyter-widgets/base",
      "_view_module_version": "1.2.0",
      "_view_name": "StyleView",
      "description_width": ""
     }
    },
    "6433202b296d4d01bea015e31865225b": {
     "model_module": "@jupyter-widgets/controls",
     "model_module_version": "1.5.0",
     "model_name": "HBoxModel",
     "state": {
      "_dom_classes": [],
      "_model_module": "@jupyter-widgets/controls",
      "_model_module_version": "1.5.0",
      "_model_name": "HBoxModel",
      "_view_count": null,
      "_view_module": "@jupyter-widgets/controls",
      "_view_module_version": "1.5.0",
      "_view_name": "HBoxView",
      "box_style": "",
      "children": [
       "IPY_MODEL_d1073d82a55649ae8da9ce2bb5dac44f",
       "IPY_MODEL_86514dbdcbc646aaa885c0da4bd5b690",
       "IPY_MODEL_e97d0e1910ae46c28b2e2a9215b08406"
      ],
      "layout": "IPY_MODEL_96a13987665044cdad7f1bf7ab2711e2"
     }
    },
    "6555fecb4c6d4aaa83fd9b179380566e": {
     "model_module": "@jupyter-widgets/base",
     "model_module_version": "1.2.0",
     "model_name": "LayoutModel",
     "state": {
      "_model_module": "@jupyter-widgets/base",
      "_model_module_version": "1.2.0",
      "_model_name": "LayoutModel",
      "_view_count": null,
      "_view_module": "@jupyter-widgets/base",
      "_view_module_version": "1.2.0",
      "_view_name": "LayoutView",
      "align_content": null,
      "align_items": null,
      "align_self": null,
      "border": null,
      "bottom": null,
      "display": null,
      "flex": null,
      "flex_flow": null,
      "grid_area": null,
      "grid_auto_columns": null,
      "grid_auto_flow": null,
      "grid_auto_rows": null,
      "grid_column": null,
      "grid_gap": null,
      "grid_row": null,
      "grid_template_areas": null,
      "grid_template_columns": null,
      "grid_template_rows": null,
      "height": null,
      "justify_content": null,
      "justify_items": null,
      "left": null,
      "margin": null,
      "max_height": null,
      "max_width": null,
      "min_height": null,
      "min_width": null,
      "object_fit": null,
      "object_position": null,
      "order": null,
      "overflow": null,
      "overflow_x": null,
      "overflow_y": null,
      "padding": null,
      "right": null,
      "top": null,
      "visibility": null,
      "width": null
     }
    },
    "67a3a0c19e3949819b23a9f3b690ad89": {
     "model_module": "@jupyter-widgets/base",
     "model_module_version": "1.2.0",
     "model_name": "LayoutModel",
     "state": {
      "_model_module": "@jupyter-widgets/base",
      "_model_module_version": "1.2.0",
      "_model_name": "LayoutModel",
      "_view_count": null,
      "_view_module": "@jupyter-widgets/base",
      "_view_module_version": "1.2.0",
      "_view_name": "LayoutView",
      "align_content": null,
      "align_items": null,
      "align_self": null,
      "border": null,
      "bottom": null,
      "display": null,
      "flex": null,
      "flex_flow": null,
      "grid_area": null,
      "grid_auto_columns": null,
      "grid_auto_flow": null,
      "grid_auto_rows": null,
      "grid_column": null,
      "grid_gap": null,
      "grid_row": null,
      "grid_template_areas": null,
      "grid_template_columns": null,
      "grid_template_rows": null,
      "height": null,
      "justify_content": null,
      "justify_items": null,
      "left": null,
      "margin": null,
      "max_height": null,
      "max_width": null,
      "min_height": null,
      "min_width": null,
      "object_fit": null,
      "object_position": null,
      "order": null,
      "overflow": null,
      "overflow_x": null,
      "overflow_y": null,
      "padding": null,
      "right": null,
      "top": null,
      "visibility": null,
      "width": null
     }
    },
    "68251db3e25e4cdb92b4a92766296294": {
     "model_module": "@jupyter-widgets/base",
     "model_module_version": "1.2.0",
     "model_name": "LayoutModel",
     "state": {
      "_model_module": "@jupyter-widgets/base",
      "_model_module_version": "1.2.0",
      "_model_name": "LayoutModel",
      "_view_count": null,
      "_view_module": "@jupyter-widgets/base",
      "_view_module_version": "1.2.0",
      "_view_name": "LayoutView",
      "align_content": null,
      "align_items": null,
      "align_self": null,
      "border": null,
      "bottom": null,
      "display": null,
      "flex": null,
      "flex_flow": null,
      "grid_area": null,
      "grid_auto_columns": null,
      "grid_auto_flow": null,
      "grid_auto_rows": null,
      "grid_column": null,
      "grid_gap": null,
      "grid_row": null,
      "grid_template_areas": null,
      "grid_template_columns": null,
      "grid_template_rows": null,
      "height": null,
      "justify_content": null,
      "justify_items": null,
      "left": null,
      "margin": null,
      "max_height": null,
      "max_width": null,
      "min_height": null,
      "min_width": null,
      "object_fit": null,
      "object_position": null,
      "order": null,
      "overflow": null,
      "overflow_x": null,
      "overflow_y": null,
      "padding": null,
      "right": null,
      "top": null,
      "visibility": null,
      "width": null
     }
    },
    "692fd6e907f24820981b33f747786043": {
     "model_module": "@jupyter-widgets/controls",
     "model_module_version": "1.5.0",
     "model_name": "FloatProgressModel",
     "state": {
      "_dom_classes": [],
      "_model_module": "@jupyter-widgets/controls",
      "_model_module_version": "1.5.0",
      "_model_name": "FloatProgressModel",
      "_view_count": null,
      "_view_module": "@jupyter-widgets/controls",
      "_view_module_version": "1.5.0",
      "_view_name": "ProgressView",
      "bar_style": "success",
      "description": "",
      "description_tooltip": null,
      "layout": "IPY_MODEL_07d6b6973d14446b8ac79160d340f787",
      "max": 67,
      "min": 0,
      "orientation": "horizontal",
      "style": "IPY_MODEL_a70a66c967c841d2913dca7d1fc18c97",
      "value": 67
     }
    },
    "6a433b11d79c47609e6b7d2de756ee79": {
     "model_module": "@jupyter-widgets/base",
     "model_module_version": "1.2.0",
     "model_name": "LayoutModel",
     "state": {
      "_model_module": "@jupyter-widgets/base",
      "_model_module_version": "1.2.0",
      "_model_name": "LayoutModel",
      "_view_count": null,
      "_view_module": "@jupyter-widgets/base",
      "_view_module_version": "1.2.0",
      "_view_name": "LayoutView",
      "align_content": null,
      "align_items": null,
      "align_self": null,
      "border": null,
      "bottom": null,
      "display": null,
      "flex": null,
      "flex_flow": null,
      "grid_area": null,
      "grid_auto_columns": null,
      "grid_auto_flow": null,
      "grid_auto_rows": null,
      "grid_column": null,
      "grid_gap": null,
      "grid_row": null,
      "grid_template_areas": null,
      "grid_template_columns": null,
      "grid_template_rows": null,
      "height": null,
      "justify_content": null,
      "justify_items": null,
      "left": null,
      "margin": null,
      "max_height": null,
      "max_width": null,
      "min_height": null,
      "min_width": null,
      "object_fit": null,
      "object_position": null,
      "order": null,
      "overflow": null,
      "overflow_x": null,
      "overflow_y": null,
      "padding": null,
      "right": null,
      "top": null,
      "visibility": null,
      "width": null
     }
    },
    "6a4acf291ca04f4ab1333c5bb96734f7": {
     "model_module": "@jupyter-widgets/controls",
     "model_module_version": "1.5.0",
     "model_name": "DescriptionStyleModel",
     "state": {
      "_model_module": "@jupyter-widgets/controls",
      "_model_module_version": "1.5.0",
      "_model_name": "DescriptionStyleModel",
      "_view_count": null,
      "_view_module": "@jupyter-widgets/base",
      "_view_module_version": "1.2.0",
      "_view_name": "StyleView",
      "description_width": ""
     }
    },
    "70a8d260efb1424b84eecb4f4c261be7": {
     "model_module": "@jupyter-widgets/controls",
     "model_module_version": "1.5.0",
     "model_name": "HTMLModel",
     "state": {
      "_dom_classes": [],
      "_model_module": "@jupyter-widgets/controls",
      "_model_module_version": "1.5.0",
      "_model_name": "HTMLModel",
      "_view_count": null,
      "_view_module": "@jupyter-widgets/controls",
      "_view_module_version": "1.5.0",
      "_view_name": "HTMLView",
      "description": "",
      "description_tooltip": null,
      "layout": "IPY_MODEL_ce89bee688744b3f947f228f6ac34ce5",
      "placeholder": "​",
      "style": "IPY_MODEL_837e4a8c4f834d598d84f6698f8b8561",
      "value": " 67/67 [01:24&lt;00:00,  1.23s/it]"
     }
    },
    "78a4d6bce6c6428d90df367c4f624369": {
     "model_module": "@jupyter-widgets/base",
     "model_module_version": "1.2.0",
     "model_name": "LayoutModel",
     "state": {
      "_model_module": "@jupyter-widgets/base",
      "_model_module_version": "1.2.0",
      "_model_name": "LayoutModel",
      "_view_count": null,
      "_view_module": "@jupyter-widgets/base",
      "_view_module_version": "1.2.0",
      "_view_name": "LayoutView",
      "align_content": null,
      "align_items": null,
      "align_self": null,
      "border": null,
      "bottom": null,
      "display": null,
      "flex": null,
      "flex_flow": null,
      "grid_area": null,
      "grid_auto_columns": null,
      "grid_auto_flow": null,
      "grid_auto_rows": null,
      "grid_column": null,
      "grid_gap": null,
      "grid_row": null,
      "grid_template_areas": null,
      "grid_template_columns": null,
      "grid_template_rows": null,
      "height": null,
      "justify_content": null,
      "justify_items": null,
      "left": null,
      "margin": null,
      "max_height": null,
      "max_width": null,
      "min_height": null,
      "min_width": null,
      "object_fit": null,
      "object_position": null,
      "order": null,
      "overflow": null,
      "overflow_x": null,
      "overflow_y": null,
      "padding": null,
      "right": null,
      "top": null,
      "visibility": null,
      "width": null
     }
    },
    "7b0e10aae72041d9a4c32c9ee95e28f1": {
     "model_module": "@jupyter-widgets/controls",
     "model_module_version": "1.5.0",
     "model_name": "HBoxModel",
     "state": {
      "_dom_classes": [],
      "_model_module": "@jupyter-widgets/controls",
      "_model_module_version": "1.5.0",
      "_model_name": "HBoxModel",
      "_view_count": null,
      "_view_module": "@jupyter-widgets/controls",
      "_view_module_version": "1.5.0",
      "_view_name": "HBoxView",
      "box_style": "",
      "children": [
       "IPY_MODEL_4767315dda414bc3a8c0380e13c6fd43",
       "IPY_MODEL_692fd6e907f24820981b33f747786043",
       "IPY_MODEL_268fb33895a1418680cdebf291eb2f34"
      ],
      "layout": "IPY_MODEL_597c06026172474b8fc7c761cb7f3b83"
     }
    },
    "82ab8e6d1bbb42489067112afdbd6098": {
     "model_module": "@jupyter-widgets/controls",
     "model_module_version": "1.5.0",
     "model_name": "HTMLModel",
     "state": {
      "_dom_classes": [],
      "_model_module": "@jupyter-widgets/controls",
      "_model_module_version": "1.5.0",
      "_model_name": "HTMLModel",
      "_view_count": null,
      "_view_module": "@jupyter-widgets/controls",
      "_view_module_version": "1.5.0",
      "_view_name": "HTMLView",
      "description": "",
      "description_tooltip": null,
      "layout": "IPY_MODEL_4bc6b35f41ac49ae868d56ba6a89be1e",
      "placeholder": "​",
      "style": "IPY_MODEL_5e532ce5043b4a92a15aba83e286587a",
      "value": "100%"
     }
    },
    "837e4a8c4f834d598d84f6698f8b8561": {
     "model_module": "@jupyter-widgets/controls",
     "model_module_version": "1.5.0",
     "model_name": "DescriptionStyleModel",
     "state": {
      "_model_module": "@jupyter-widgets/controls",
      "_model_module_version": "1.5.0",
      "_model_name": "DescriptionStyleModel",
      "_view_count": null,
      "_view_module": "@jupyter-widgets/base",
      "_view_module_version": "1.2.0",
      "_view_name": "StyleView",
      "description_width": ""
     }
    },
    "83c3317c91bc4572949ea0005de9edf2": {
     "model_module": "@jupyter-widgets/controls",
     "model_module_version": "1.5.0",
     "model_name": "DescriptionStyleModel",
     "state": {
      "_model_module": "@jupyter-widgets/controls",
      "_model_module_version": "1.5.0",
      "_model_name": "DescriptionStyleModel",
      "_view_count": null,
      "_view_module": "@jupyter-widgets/base",
      "_view_module_version": "1.2.0",
      "_view_name": "StyleView",
      "description_width": ""
     }
    },
    "86514dbdcbc646aaa885c0da4bd5b690": {
     "model_module": "@jupyter-widgets/controls",
     "model_module_version": "1.5.0",
     "model_name": "FloatProgressModel",
     "state": {
      "_dom_classes": [],
      "_model_module": "@jupyter-widgets/controls",
      "_model_module_version": "1.5.0",
      "_model_name": "FloatProgressModel",
      "_view_count": null,
      "_view_module": "@jupyter-widgets/controls",
      "_view_module_version": "1.5.0",
      "_view_name": "ProgressView",
      "bar_style": "success",
      "description": "",
      "description_tooltip": null,
      "layout": "IPY_MODEL_2755e71aee5745f5baa2bb0ef1275a46",
      "max": 67,
      "min": 0,
      "orientation": "horizontal",
      "style": "IPY_MODEL_25c37aaec36c4baeb9ad074bf4a2281b",
      "value": 67
     }
    },
    "891e12f018364b9ba8321a32a360017b": {
     "model_module": "@jupyter-widgets/controls",
     "model_module_version": "1.5.0",
     "model_name": "ProgressStyleModel",
     "state": {
      "_model_module": "@jupyter-widgets/controls",
      "_model_module_version": "1.5.0",
      "_model_name": "ProgressStyleModel",
      "_view_count": null,
      "_view_module": "@jupyter-widgets/base",
      "_view_module_version": "1.2.0",
      "_view_name": "StyleView",
      "bar_color": null,
      "description_width": ""
     }
    },
    "89a748d7a2c748e1a41dfa358808c1d6": {
     "model_module": "@jupyter-widgets/base",
     "model_module_version": "1.2.0",
     "model_name": "LayoutModel",
     "state": {
      "_model_module": "@jupyter-widgets/base",
      "_model_module_version": "1.2.0",
      "_model_name": "LayoutModel",
      "_view_count": null,
      "_view_module": "@jupyter-widgets/base",
      "_view_module_version": "1.2.0",
      "_view_name": "LayoutView",
      "align_content": null,
      "align_items": null,
      "align_self": null,
      "border": null,
      "bottom": null,
      "display": null,
      "flex": null,
      "flex_flow": null,
      "grid_area": null,
      "grid_auto_columns": null,
      "grid_auto_flow": null,
      "grid_auto_rows": null,
      "grid_column": null,
      "grid_gap": null,
      "grid_row": null,
      "grid_template_areas": null,
      "grid_template_columns": null,
      "grid_template_rows": null,
      "height": null,
      "justify_content": null,
      "justify_items": null,
      "left": null,
      "margin": null,
      "max_height": null,
      "max_width": null,
      "min_height": null,
      "min_width": null,
      "object_fit": null,
      "object_position": null,
      "order": null,
      "overflow": null,
      "overflow_x": null,
      "overflow_y": null,
      "padding": null,
      "right": null,
      "top": null,
      "visibility": null,
      "width": null
     }
    },
    "8a9736ddd3a340d8bd58aeeeb4487b7d": {
     "model_module": "@jupyter-widgets/controls",
     "model_module_version": "1.5.0",
     "model_name": "HTMLModel",
     "state": {
      "_dom_classes": [],
      "_model_module": "@jupyter-widgets/controls",
      "_model_module_version": "1.5.0",
      "_model_name": "HTMLModel",
      "_view_count": null,
      "_view_module": "@jupyter-widgets/controls",
      "_view_module_version": "1.5.0",
      "_view_name": "HTMLView",
      "description": "",
      "description_tooltip": null,
      "layout": "IPY_MODEL_97c6451702eb488eb8d8068e994d28d5",
      "placeholder": "​",
      "style": "IPY_MODEL_dfdf0111a77e419ab307a65fd216da25",
      "value": "  1%"
     }
    },
    "8b7b2820ad034e9c88fca22c3adaf7aa": {
     "model_module": "@jupyter-widgets/controls",
     "model_module_version": "1.5.0",
     "model_name": "HBoxModel",
     "state": {
      "_dom_classes": [],
      "_model_module": "@jupyter-widgets/controls",
      "_model_module_version": "1.5.0",
      "_model_name": "HBoxModel",
      "_view_count": null,
      "_view_module": "@jupyter-widgets/controls",
      "_view_module_version": "1.5.0",
      "_view_name": "HBoxView",
      "box_style": "",
      "children": [
       "IPY_MODEL_10fcd9e6860442c59a33ec26ba038890",
       "IPY_MODEL_12c662bea23f4f088f1e0c80e71fe724",
       "IPY_MODEL_3a2be6e8aa734a1d91d51733d0fe493d"
      ],
      "layout": "IPY_MODEL_5d7da0e4e17e4f27ae96cc3c0f34aeaa"
     }
    },
    "96a13987665044cdad7f1bf7ab2711e2": {
     "model_module": "@jupyter-widgets/base",
     "model_module_version": "1.2.0",
     "model_name": "LayoutModel",
     "state": {
      "_model_module": "@jupyter-widgets/base",
      "_model_module_version": "1.2.0",
      "_model_name": "LayoutModel",
      "_view_count": null,
      "_view_module": "@jupyter-widgets/base",
      "_view_module_version": "1.2.0",
      "_view_name": "LayoutView",
      "align_content": null,
      "align_items": null,
      "align_self": null,
      "border": null,
      "bottom": null,
      "display": null,
      "flex": null,
      "flex_flow": null,
      "grid_area": null,
      "grid_auto_columns": null,
      "grid_auto_flow": null,
      "grid_auto_rows": null,
      "grid_column": null,
      "grid_gap": null,
      "grid_row": null,
      "grid_template_areas": null,
      "grid_template_columns": null,
      "grid_template_rows": null,
      "height": null,
      "justify_content": null,
      "justify_items": null,
      "left": null,
      "margin": null,
      "max_height": null,
      "max_width": null,
      "min_height": null,
      "min_width": null,
      "object_fit": null,
      "object_position": null,
      "order": null,
      "overflow": null,
      "overflow_x": null,
      "overflow_y": null,
      "padding": null,
      "right": null,
      "top": null,
      "visibility": null,
      "width": null
     }
    },
    "97c6451702eb488eb8d8068e994d28d5": {
     "model_module": "@jupyter-widgets/base",
     "model_module_version": "1.2.0",
     "model_name": "LayoutModel",
     "state": {
      "_model_module": "@jupyter-widgets/base",
      "_model_module_version": "1.2.0",
      "_model_name": "LayoutModel",
      "_view_count": null,
      "_view_module": "@jupyter-widgets/base",
      "_view_module_version": "1.2.0",
      "_view_name": "LayoutView",
      "align_content": null,
      "align_items": null,
      "align_self": null,
      "border": null,
      "bottom": null,
      "display": null,
      "flex": null,
      "flex_flow": null,
      "grid_area": null,
      "grid_auto_columns": null,
      "grid_auto_flow": null,
      "grid_auto_rows": null,
      "grid_column": null,
      "grid_gap": null,
      "grid_row": null,
      "grid_template_areas": null,
      "grid_template_columns": null,
      "grid_template_rows": null,
      "height": null,
      "justify_content": null,
      "justify_items": null,
      "left": null,
      "margin": null,
      "max_height": null,
      "max_width": null,
      "min_height": null,
      "min_width": null,
      "object_fit": null,
      "object_position": null,
      "order": null,
      "overflow": null,
      "overflow_x": null,
      "overflow_y": null,
      "padding": null,
      "right": null,
      "top": null,
      "visibility": null,
      "width": null
     }
    },
    "a70a66c967c841d2913dca7d1fc18c97": {
     "model_module": "@jupyter-widgets/controls",
     "model_module_version": "1.5.0",
     "model_name": "ProgressStyleModel",
     "state": {
      "_model_module": "@jupyter-widgets/controls",
      "_model_module_version": "1.5.0",
      "_model_name": "ProgressStyleModel",
      "_view_count": null,
      "_view_module": "@jupyter-widgets/base",
      "_view_module_version": "1.2.0",
      "_view_name": "StyleView",
      "bar_color": null,
      "description_width": ""
     }
    },
    "a955a42b04e74a5e9e79140003f5da4a": {
     "model_module": "@jupyter-widgets/controls",
     "model_module_version": "1.5.0",
     "model_name": "DescriptionStyleModel",
     "state": {
      "_model_module": "@jupyter-widgets/controls",
      "_model_module_version": "1.5.0",
      "_model_name": "DescriptionStyleModel",
      "_view_count": null,
      "_view_module": "@jupyter-widgets/base",
      "_view_module_version": "1.2.0",
      "_view_name": "StyleView",
      "description_width": ""
     }
    },
    "ad19ba65e49a467b820f9d54ac0b7653": {
     "model_module": "@jupyter-widgets/controls",
     "model_module_version": "1.5.0",
     "model_name": "HBoxModel",
     "state": {
      "_dom_classes": [],
      "_model_module": "@jupyter-widgets/controls",
      "_model_module_version": "1.5.0",
      "_model_name": "HBoxModel",
      "_view_count": null,
      "_view_module": "@jupyter-widgets/controls",
      "_view_module_version": "1.5.0",
      "_view_name": "HBoxView",
      "box_style": "",
      "children": [
       "IPY_MODEL_8a9736ddd3a340d8bd58aeeeb4487b7d",
       "IPY_MODEL_0c82edf6c59a40d2b7d71eb76fb8ffe1",
       "IPY_MODEL_dc2862a0be7f4f4b8c70f3fef30509a4"
      ],
      "layout": "IPY_MODEL_e6aed16c2626442aa72be9e9b08512d7"
     }
    },
    "ae9313e607af425186e8107f3e146bf4": {
     "model_module": "@jupyter-widgets/base",
     "model_module_version": "1.2.0",
     "model_name": "LayoutModel",
     "state": {
      "_model_module": "@jupyter-widgets/base",
      "_model_module_version": "1.2.0",
      "_model_name": "LayoutModel",
      "_view_count": null,
      "_view_module": "@jupyter-widgets/base",
      "_view_module_version": "1.2.0",
      "_view_name": "LayoutView",
      "align_content": null,
      "align_items": null,
      "align_self": null,
      "border": null,
      "bottom": null,
      "display": null,
      "flex": null,
      "flex_flow": null,
      "grid_area": null,
      "grid_auto_columns": null,
      "grid_auto_flow": null,
      "grid_auto_rows": null,
      "grid_column": null,
      "grid_gap": null,
      "grid_row": null,
      "grid_template_areas": null,
      "grid_template_columns": null,
      "grid_template_rows": null,
      "height": null,
      "justify_content": null,
      "justify_items": null,
      "left": null,
      "margin": null,
      "max_height": null,
      "max_width": null,
      "min_height": null,
      "min_width": null,
      "object_fit": null,
      "object_position": null,
      "order": null,
      "overflow": null,
      "overflow_x": null,
      "overflow_y": null,
      "padding": null,
      "right": null,
      "top": null,
      "visibility": null,
      "width": null
     }
    },
    "b26c6ea793944154a197b24a86e35449": {
     "model_module": "@jupyter-widgets/controls",
     "model_module_version": "1.5.0",
     "model_name": "DescriptionStyleModel",
     "state": {
      "_model_module": "@jupyter-widgets/controls",
      "_model_module_version": "1.5.0",
      "_model_name": "DescriptionStyleModel",
      "_view_count": null,
      "_view_module": "@jupyter-widgets/base",
      "_view_module_version": "1.2.0",
      "_view_name": "StyleView",
      "description_width": ""
     }
    },
    "b44625cddc5145738e8d999b5bd78ef5": {
     "model_module": "@jupyter-widgets/controls",
     "model_module_version": "1.5.0",
     "model_name": "HTMLModel",
     "state": {
      "_dom_classes": [],
      "_model_module": "@jupyter-widgets/controls",
      "_model_module_version": "1.5.0",
      "_model_name": "HTMLModel",
      "_view_count": null,
      "_view_module": "@jupyter-widgets/controls",
      "_view_module_version": "1.5.0",
      "_view_name": "HTMLView",
      "description": "",
      "description_tooltip": null,
      "layout": "IPY_MODEL_6555fecb4c6d4aaa83fd9b179380566e",
      "placeholder": "​",
      "style": "IPY_MODEL_83c3317c91bc4572949ea0005de9edf2",
      "value": "100%"
     }
    },
    "baee05b3f8dc4ede8b52c178d3275c3f": {
     "model_module": "@jupyter-widgets/controls",
     "model_module_version": "1.5.0",
     "model_name": "ProgressStyleModel",
     "state": {
      "_model_module": "@jupyter-widgets/controls",
      "_model_module_version": "1.5.0",
      "_model_name": "ProgressStyleModel",
      "_view_count": null,
      "_view_module": "@jupyter-widgets/base",
      "_view_module_version": "1.2.0",
      "_view_name": "StyleView",
      "bar_color": null,
      "description_width": ""
     }
    },
    "c05725dd38214e9c8fc5405200ff76cc": {
     "model_module": "@jupyter-widgets/base",
     "model_module_version": "1.2.0",
     "model_name": "LayoutModel",
     "state": {
      "_model_module": "@jupyter-widgets/base",
      "_model_module_version": "1.2.0",
      "_model_name": "LayoutModel",
      "_view_count": null,
      "_view_module": "@jupyter-widgets/base",
      "_view_module_version": "1.2.0",
      "_view_name": "LayoutView",
      "align_content": null,
      "align_items": null,
      "align_self": null,
      "border": null,
      "bottom": null,
      "display": null,
      "flex": null,
      "flex_flow": null,
      "grid_area": null,
      "grid_auto_columns": null,
      "grid_auto_flow": null,
      "grid_auto_rows": null,
      "grid_column": null,
      "grid_gap": null,
      "grid_row": null,
      "grid_template_areas": null,
      "grid_template_columns": null,
      "grid_template_rows": null,
      "height": null,
      "justify_content": null,
      "justify_items": null,
      "left": null,
      "margin": null,
      "max_height": null,
      "max_width": null,
      "min_height": null,
      "min_width": null,
      "object_fit": null,
      "object_position": null,
      "order": null,
      "overflow": null,
      "overflow_x": null,
      "overflow_y": null,
      "padding": null,
      "right": null,
      "top": null,
      "visibility": null,
      "width": null
     }
    },
    "c6b5a6b02a5c46449f0278f40602b696": {
     "model_module": "@jupyter-widgets/controls",
     "model_module_version": "1.5.0",
     "model_name": "DescriptionStyleModel",
     "state": {
      "_model_module": "@jupyter-widgets/controls",
      "_model_module_version": "1.5.0",
      "_model_name": "DescriptionStyleModel",
      "_view_count": null,
      "_view_module": "@jupyter-widgets/base",
      "_view_module_version": "1.2.0",
      "_view_name": "StyleView",
      "description_width": ""
     }
    },
    "c98b5c43e066427493e0e015741e5607": {
     "model_module": "@jupyter-widgets/controls",
     "model_module_version": "1.5.0",
     "model_name": "HBoxModel",
     "state": {
      "_dom_classes": [],
      "_model_module": "@jupyter-widgets/controls",
      "_model_module_version": "1.5.0",
      "_model_name": "HBoxModel",
      "_view_count": null,
      "_view_module": "@jupyter-widgets/controls",
      "_view_module_version": "1.5.0",
      "_view_name": "HBoxView",
      "box_style": "",
      "children": [
       "IPY_MODEL_82ab8e6d1bbb42489067112afdbd6098",
       "IPY_MODEL_d97aae9359c04157b300eba132ec9fe3",
       "IPY_MODEL_70a8d260efb1424b84eecb4f4c261be7"
      ],
      "layout": "IPY_MODEL_89a748d7a2c748e1a41dfa358808c1d6"
     }
    },
    "ca9ec331b00c44fdab1479927bb3abc1": {
     "model_module": "@jupyter-widgets/controls",
     "model_module_version": "1.5.0",
     "model_name": "DescriptionStyleModel",
     "state": {
      "_model_module": "@jupyter-widgets/controls",
      "_model_module_version": "1.5.0",
      "_model_name": "DescriptionStyleModel",
      "_view_count": null,
      "_view_module": "@jupyter-widgets/base",
      "_view_module_version": "1.2.0",
      "_view_name": "StyleView",
      "description_width": ""
     }
    },
    "cba49174b82f44fc87f2d7c84f2200da": {
     "model_module": "@jupyter-widgets/controls",
     "model_module_version": "1.5.0",
     "model_name": "HTMLModel",
     "state": {
      "_dom_classes": [],
      "_model_module": "@jupyter-widgets/controls",
      "_model_module_version": "1.5.0",
      "_model_name": "HTMLModel",
      "_view_count": null,
      "_view_module": "@jupyter-widgets/controls",
      "_view_module_version": "1.5.0",
      "_view_name": "HTMLView",
      "description": "",
      "description_tooltip": null,
      "layout": "IPY_MODEL_5da9f770a78c4751b2b7c8000acbe42d",
      "placeholder": "​",
      "style": "IPY_MODEL_3290370cf032413eb617709c5873e2ad",
      "value": "100%"
     }
    },
    "cd8f19c3aee743b491096fbbd0e4935b": {
     "model_module": "@jupyter-widgets/base",
     "model_module_version": "1.2.0",
     "model_name": "LayoutModel",
     "state": {
      "_model_module": "@jupyter-widgets/base",
      "_model_module_version": "1.2.0",
      "_model_name": "LayoutModel",
      "_view_count": null,
      "_view_module": "@jupyter-widgets/base",
      "_view_module_version": "1.2.0",
      "_view_name": "LayoutView",
      "align_content": null,
      "align_items": null,
      "align_self": null,
      "border": null,
      "bottom": null,
      "display": null,
      "flex": null,
      "flex_flow": null,
      "grid_area": null,
      "grid_auto_columns": null,
      "grid_auto_flow": null,
      "grid_auto_rows": null,
      "grid_column": null,
      "grid_gap": null,
      "grid_row": null,
      "grid_template_areas": null,
      "grid_template_columns": null,
      "grid_template_rows": null,
      "height": null,
      "justify_content": null,
      "justify_items": null,
      "left": null,
      "margin": null,
      "max_height": null,
      "max_width": null,
      "min_height": null,
      "min_width": null,
      "object_fit": null,
      "object_position": null,
      "order": null,
      "overflow": null,
      "overflow_x": null,
      "overflow_y": null,
      "padding": null,
      "right": null,
      "top": null,
      "visibility": null,
      "width": null
     }
    },
    "ce89bee688744b3f947f228f6ac34ce5": {
     "model_module": "@jupyter-widgets/base",
     "model_module_version": "1.2.0",
     "model_name": "LayoutModel",
     "state": {
      "_model_module": "@jupyter-widgets/base",
      "_model_module_version": "1.2.0",
      "_model_name": "LayoutModel",
      "_view_count": null,
      "_view_module": "@jupyter-widgets/base",
      "_view_module_version": "1.2.0",
      "_view_name": "LayoutView",
      "align_content": null,
      "align_items": null,
      "align_self": null,
      "border": null,
      "bottom": null,
      "display": null,
      "flex": null,
      "flex_flow": null,
      "grid_area": null,
      "grid_auto_columns": null,
      "grid_auto_flow": null,
      "grid_auto_rows": null,
      "grid_column": null,
      "grid_gap": null,
      "grid_row": null,
      "grid_template_areas": null,
      "grid_template_columns": null,
      "grid_template_rows": null,
      "height": null,
      "justify_content": null,
      "justify_items": null,
      "left": null,
      "margin": null,
      "max_height": null,
      "max_width": null,
      "min_height": null,
      "min_width": null,
      "object_fit": null,
      "object_position": null,
      "order": null,
      "overflow": null,
      "overflow_x": null,
      "overflow_y": null,
      "padding": null,
      "right": null,
      "top": null,
      "visibility": null,
      "width": null
     }
    },
    "d1073d82a55649ae8da9ce2bb5dac44f": {
     "model_module": "@jupyter-widgets/controls",
     "model_module_version": "1.5.0",
     "model_name": "HTMLModel",
     "state": {
      "_dom_classes": [],
      "_model_module": "@jupyter-widgets/controls",
      "_model_module_version": "1.5.0",
      "_model_name": "HTMLModel",
      "_view_count": null,
      "_view_module": "@jupyter-widgets/controls",
      "_view_module_version": "1.5.0",
      "_view_name": "HTMLView",
      "description": "",
      "description_tooltip": null,
      "layout": "IPY_MODEL_1e3a5ece6ef14d99a7fb9984708992dd",
      "placeholder": "​",
      "style": "IPY_MODEL_60e3f6a428054f2eba9db7a2e3e1b7d5",
      "value": "100%"
     }
    },
    "d97aae9359c04157b300eba132ec9fe3": {
     "model_module": "@jupyter-widgets/controls",
     "model_module_version": "1.5.0",
     "model_name": "FloatProgressModel",
     "state": {
      "_dom_classes": [],
      "_model_module": "@jupyter-widgets/controls",
      "_model_module_version": "1.5.0",
      "_model_name": "FloatProgressModel",
      "_view_count": null,
      "_view_module": "@jupyter-widgets/controls",
      "_view_module_version": "1.5.0",
      "_view_name": "ProgressView",
      "bar_style": "success",
      "description": "",
      "description_tooltip": null,
      "layout": "IPY_MODEL_78a4d6bce6c6428d90df367c4f624369",
      "max": 67,
      "min": 0,
      "orientation": "horizontal",
      "style": "IPY_MODEL_891e12f018364b9ba8321a32a360017b",
      "value": 67
     }
    },
    "d9dac4ae0c91478297aa74c1c21b77ef": {
     "model_module": "@jupyter-widgets/controls",
     "model_module_version": "1.5.0",
     "model_name": "FloatProgressModel",
     "state": {
      "_dom_classes": [],
      "_model_module": "@jupyter-widgets/controls",
      "_model_module_version": "1.5.0",
      "_model_name": "FloatProgressModel",
      "_view_count": null,
      "_view_module": "@jupyter-widgets/controls",
      "_view_module_version": "1.5.0",
      "_view_name": "ProgressView",
      "bar_style": "success",
      "description": "",
      "description_tooltip": null,
      "layout": "IPY_MODEL_1b3489d3dd5445a08e8d4525f8d6e609",
      "max": 67,
      "min": 0,
      "orientation": "horizontal",
      "style": "IPY_MODEL_baee05b3f8dc4ede8b52c178d3275c3f",
      "value": 67
     }
    },
    "da8df6c2ce9144d1844df095ac58fa3d": {
     "model_module": "@jupyter-widgets/base",
     "model_module_version": "1.2.0",
     "model_name": "LayoutModel",
     "state": {
      "_model_module": "@jupyter-widgets/base",
      "_model_module_version": "1.2.0",
      "_model_name": "LayoutModel",
      "_view_count": null,
      "_view_module": "@jupyter-widgets/base",
      "_view_module_version": "1.2.0",
      "_view_name": "LayoutView",
      "align_content": null,
      "align_items": null,
      "align_self": null,
      "border": null,
      "bottom": null,
      "display": null,
      "flex": null,
      "flex_flow": null,
      "grid_area": null,
      "grid_auto_columns": null,
      "grid_auto_flow": null,
      "grid_auto_rows": null,
      "grid_column": null,
      "grid_gap": null,
      "grid_row": null,
      "grid_template_areas": null,
      "grid_template_columns": null,
      "grid_template_rows": null,
      "height": null,
      "justify_content": null,
      "justify_items": null,
      "left": null,
      "margin": null,
      "max_height": null,
      "max_width": null,
      "min_height": null,
      "min_width": null,
      "object_fit": null,
      "object_position": null,
      "order": null,
      "overflow": null,
      "overflow_x": null,
      "overflow_y": null,
      "padding": null,
      "right": null,
      "top": null,
      "visibility": null,
      "width": null
     }
    },
    "dc2862a0be7f4f4b8c70f3fef30509a4": {
     "model_module": "@jupyter-widgets/controls",
     "model_module_version": "1.5.0",
     "model_name": "HTMLModel",
     "state": {
      "_dom_classes": [],
      "_model_module": "@jupyter-widgets/controls",
      "_model_module_version": "1.5.0",
      "_model_name": "HTMLModel",
      "_view_count": null,
      "_view_module": "@jupyter-widgets/controls",
      "_view_module_version": "1.5.0",
      "_view_name": "HTMLView",
      "description": "",
      "description_tooltip": null,
      "layout": "IPY_MODEL_fdf40f25f61b4f3c902dd42f5142ae04",
      "placeholder": "​",
      "style": "IPY_MODEL_f6f847daa37f41a4aba9099eeb0c9f1e",
      "value": " 1/67 [00:01&lt;01:23,  1.27s/it]"
     }
    },
    "df95b84c6e59423abf8f0be673777bee": {
     "model_module": "@jupyter-widgets/controls",
     "model_module_version": "1.5.0",
     "model_name": "FloatProgressModel",
     "state": {
      "_dom_classes": [],
      "_model_module": "@jupyter-widgets/controls",
      "_model_module_version": "1.5.0",
      "_model_name": "FloatProgressModel",
      "_view_count": null,
      "_view_module": "@jupyter-widgets/controls",
      "_view_module_version": "1.5.0",
      "_view_name": "ProgressView",
      "bar_style": "success",
      "description": "",
      "description_tooltip": null,
      "layout": "IPY_MODEL_cd8f19c3aee743b491096fbbd0e4935b",
      "max": 67,
      "min": 0,
      "orientation": "horizontal",
      "style": "IPY_MODEL_439901939d0a41a2bf70fd5838170095",
      "value": 67
     }
    },
    "dfd4340b3736408ba01628ff11913181": {
     "model_module": "@jupyter-widgets/controls",
     "model_module_version": "1.5.0",
     "model_name": "HTMLModel",
     "state": {
      "_dom_classes": [],
      "_model_module": "@jupyter-widgets/controls",
      "_model_module_version": "1.5.0",
      "_model_name": "HTMLModel",
      "_view_count": null,
      "_view_module": "@jupyter-widgets/controls",
      "_view_module_version": "1.5.0",
      "_view_name": "HTMLView",
      "description": "",
      "description_tooltip": null,
      "layout": "IPY_MODEL_5ac2307f29cf48b6955e5baf55bb0478",
      "placeholder": "​",
      "style": "IPY_MODEL_c6b5a6b02a5c46449f0278f40602b696",
      "value": " 67/67 [01:24&lt;00:00,  1.22s/it]"
     }
    },
    "dfdf0111a77e419ab307a65fd216da25": {
     "model_module": "@jupyter-widgets/controls",
     "model_module_version": "1.5.0",
     "model_name": "DescriptionStyleModel",
     "state": {
      "_model_module": "@jupyter-widgets/controls",
      "_model_module_version": "1.5.0",
      "_model_name": "DescriptionStyleModel",
      "_view_count": null,
      "_view_module": "@jupyter-widgets/base",
      "_view_module_version": "1.2.0",
      "_view_name": "StyleView",
      "description_width": ""
     }
    },
    "e183d3960fc44c848635aca421fb96ad": {
     "model_module": "@jupyter-widgets/controls",
     "model_module_version": "1.5.0",
     "model_name": "HTMLModel",
     "state": {
      "_dom_classes": [],
      "_model_module": "@jupyter-widgets/controls",
      "_model_module_version": "1.5.0",
      "_model_name": "HTMLModel",
      "_view_count": null,
      "_view_module": "@jupyter-widgets/controls",
      "_view_module_version": "1.5.0",
      "_view_name": "HTMLView",
      "description": "",
      "description_tooltip": null,
      "layout": "IPY_MODEL_fa4cb31240514aea817a153e8363c17b",
      "placeholder": "​",
      "style": "IPY_MODEL_b26c6ea793944154a197b24a86e35449",
      "value": " 67/67 [01:25&lt;00:00,  1.24s/it]"
     }
    },
    "e59b228b3c274e10a09bef843b0721aa": {
     "model_module": "@jupyter-widgets/controls",
     "model_module_version": "1.5.0",
     "model_name": "ProgressStyleModel",
     "state": {
      "_model_module": "@jupyter-widgets/controls",
      "_model_module_version": "1.5.0",
      "_model_name": "ProgressStyleModel",
      "_view_count": null,
      "_view_module": "@jupyter-widgets/base",
      "_view_module_version": "1.2.0",
      "_view_name": "StyleView",
      "bar_color": null,
      "description_width": ""
     }
    },
    "e5ef71abe9ee4aa5b1e9222faa1d447b": {
     "model_module": "@jupyter-widgets/controls",
     "model_module_version": "1.5.0",
     "model_name": "HBoxModel",
     "state": {
      "_dom_classes": [],
      "_model_module": "@jupyter-widgets/controls",
      "_model_module_version": "1.5.0",
      "_model_name": "HBoxModel",
      "_view_count": null,
      "_view_module": "@jupyter-widgets/controls",
      "_view_module_version": "1.5.0",
      "_view_name": "HBoxView",
      "box_style": "",
      "children": [
       "IPY_MODEL_2b61004c7fab44d193db6c108325e405",
       "IPY_MODEL_df95b84c6e59423abf8f0be673777bee",
       "IPY_MODEL_1925de6d68044afdb22f63a51e6df328"
      ],
      "layout": "IPY_MODEL_0853106a86cd4e6c8f07abf057e3fb2a"
     }
    },
    "e6aed16c2626442aa72be9e9b08512d7": {
     "model_module": "@jupyter-widgets/base",
     "model_module_version": "1.2.0",
     "model_name": "LayoutModel",
     "state": {
      "_model_module": "@jupyter-widgets/base",
      "_model_module_version": "1.2.0",
      "_model_name": "LayoutModel",
      "_view_count": null,
      "_view_module": "@jupyter-widgets/base",
      "_view_module_version": "1.2.0",
      "_view_name": "LayoutView",
      "align_content": null,
      "align_items": null,
      "align_self": null,
      "border": null,
      "bottom": null,
      "display": null,
      "flex": null,
      "flex_flow": null,
      "grid_area": null,
      "grid_auto_columns": null,
      "grid_auto_flow": null,
      "grid_auto_rows": null,
      "grid_column": null,
      "grid_gap": null,
      "grid_row": null,
      "grid_template_areas": null,
      "grid_template_columns": null,
      "grid_template_rows": null,
      "height": null,
      "justify_content": null,
      "justify_items": null,
      "left": null,
      "margin": null,
      "max_height": null,
      "max_width": null,
      "min_height": null,
      "min_width": null,
      "object_fit": null,
      "object_position": null,
      "order": null,
      "overflow": null,
      "overflow_x": null,
      "overflow_y": null,
      "padding": null,
      "right": null,
      "top": null,
      "visibility": null,
      "width": null
     }
    },
    "e855e618287346ac80d7e070b3926691": {
     "model_module": "@jupyter-widgets/controls",
     "model_module_version": "1.5.0",
     "model_name": "DescriptionStyleModel",
     "state": {
      "_model_module": "@jupyter-widgets/controls",
      "_model_module_version": "1.5.0",
      "_model_name": "DescriptionStyleModel",
      "_view_count": null,
      "_view_module": "@jupyter-widgets/base",
      "_view_module_version": "1.2.0",
      "_view_name": "StyleView",
      "description_width": ""
     }
    },
    "e97d0e1910ae46c28b2e2a9215b08406": {
     "model_module": "@jupyter-widgets/controls",
     "model_module_version": "1.5.0",
     "model_name": "HTMLModel",
     "state": {
      "_dom_classes": [],
      "_model_module": "@jupyter-widgets/controls",
      "_model_module_version": "1.5.0",
      "_model_name": "HTMLModel",
      "_view_count": null,
      "_view_module": "@jupyter-widgets/controls",
      "_view_module_version": "1.5.0",
      "_view_name": "HTMLView",
      "description": "",
      "description_tooltip": null,
      "layout": "IPY_MODEL_055390feea074c15aaa6c3cb6cd5b583",
      "placeholder": "​",
      "style": "IPY_MODEL_6a4acf291ca04f4ab1333c5bb96734f7",
      "value": " 67/67 [01:24&lt;00:00,  1.24s/it]"
     }
    },
    "eae31353d635489b909fda4ce5e5b9bf": {
     "model_module": "@jupyter-widgets/controls",
     "model_module_version": "1.5.0",
     "model_name": "ProgressStyleModel",
     "state": {
      "_model_module": "@jupyter-widgets/controls",
      "_model_module_version": "1.5.0",
      "_model_name": "ProgressStyleModel",
      "_view_count": null,
      "_view_module": "@jupyter-widgets/base",
      "_view_module_version": "1.2.0",
      "_view_name": "StyleView",
      "bar_color": null,
      "description_width": ""
     }
    },
    "f6f847daa37f41a4aba9099eeb0c9f1e": {
     "model_module": "@jupyter-widgets/controls",
     "model_module_version": "1.5.0",
     "model_name": "DescriptionStyleModel",
     "state": {
      "_model_module": "@jupyter-widgets/controls",
      "_model_module_version": "1.5.0",
      "_model_name": "DescriptionStyleModel",
      "_view_count": null,
      "_view_module": "@jupyter-widgets/base",
      "_view_module_version": "1.2.0",
      "_view_name": "StyleView",
      "description_width": ""
     }
    },
    "fa4cb31240514aea817a153e8363c17b": {
     "model_module": "@jupyter-widgets/base",
     "model_module_version": "1.2.0",
     "model_name": "LayoutModel",
     "state": {
      "_model_module": "@jupyter-widgets/base",
      "_model_module_version": "1.2.0",
      "_model_name": "LayoutModel",
      "_view_count": null,
      "_view_module": "@jupyter-widgets/base",
      "_view_module_version": "1.2.0",
      "_view_name": "LayoutView",
      "align_content": null,
      "align_items": null,
      "align_self": null,
      "border": null,
      "bottom": null,
      "display": null,
      "flex": null,
      "flex_flow": null,
      "grid_area": null,
      "grid_auto_columns": null,
      "grid_auto_flow": null,
      "grid_auto_rows": null,
      "grid_column": null,
      "grid_gap": null,
      "grid_row": null,
      "grid_template_areas": null,
      "grid_template_columns": null,
      "grid_template_rows": null,
      "height": null,
      "justify_content": null,
      "justify_items": null,
      "left": null,
      "margin": null,
      "max_height": null,
      "max_width": null,
      "min_height": null,
      "min_width": null,
      "object_fit": null,
      "object_position": null,
      "order": null,
      "overflow": null,
      "overflow_x": null,
      "overflow_y": null,
      "padding": null,
      "right": null,
      "top": null,
      "visibility": null,
      "width": null
     }
    },
    "fdf40f25f61b4f3c902dd42f5142ae04": {
     "model_module": "@jupyter-widgets/base",
     "model_module_version": "1.2.0",
     "model_name": "LayoutModel",
     "state": {
      "_model_module": "@jupyter-widgets/base",
      "_model_module_version": "1.2.0",
      "_model_name": "LayoutModel",
      "_view_count": null,
      "_view_module": "@jupyter-widgets/base",
      "_view_module_version": "1.2.0",
      "_view_name": "LayoutView",
      "align_content": null,
      "align_items": null,
      "align_self": null,
      "border": null,
      "bottom": null,
      "display": null,
      "flex": null,
      "flex_flow": null,
      "grid_area": null,
      "grid_auto_columns": null,
      "grid_auto_flow": null,
      "grid_auto_rows": null,
      "grid_column": null,
      "grid_gap": null,
      "grid_row": null,
      "grid_template_areas": null,
      "grid_template_columns": null,
      "grid_template_rows": null,
      "height": null,
      "justify_content": null,
      "justify_items": null,
      "left": null,
      "margin": null,
      "max_height": null,
      "max_width": null,
      "min_height": null,
      "min_width": null,
      "object_fit": null,
      "object_position": null,
      "order": null,
      "overflow": null,
      "overflow_x": null,
      "overflow_y": null,
      "padding": null,
      "right": null,
      "top": null,
      "visibility": null,
      "width": null
     }
    }
   }
  }
 },
 "nbformat": 4,
 "nbformat_minor": 0
}
